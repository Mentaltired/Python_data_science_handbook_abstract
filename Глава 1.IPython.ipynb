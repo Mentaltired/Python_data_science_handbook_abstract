{
  "cells": [
    {
      "cell_type": "markdown",
      "metadata": {},
      "source": [
        "# Конспект книги \"Python для сложных задач\" Дж. Вандер Плас"
      ]
    },
    {
      "cell_type": "markdown",
      "metadata": {},
      "source": [
        "## Глава 1. Оболочка IPython"
      ]
    },
    {
      "cell_type": "code",
      "execution_count": 1,
      "metadata": {
        "trusted": true
      },
      "outputs": [
        {
          "name": "stdout",
          "output_type": "stream",
          "text": [
            "Hello world\n"
          ]
        }
      ],
      "source": [
        "print('Hello world')"
      ]
    },
    {
      "cell_type": "markdown",
      "metadata": {},
      "source": [
        "## Справка и документация в оболочке IPython"
      ]
    },
    {
      "cell_type": "markdown",
      "metadata": {},
      "source": [
        "Оболочка IPython предоставляет символ ? для быстрого доступа к документации и другой соответствующей информации"
      ]
    },
    {
      "cell_type": "code",
      "execution_count": 2,
      "metadata": {
        "trusted": true
      },
      "outputs": [
        {
          "name": "stdout",
          "output_type": "stream",
          "text": [
            "\u001b[1;31mSignature:\u001b[0m \u001b[0mlen\u001b[0m\u001b[1;33m(\u001b[0m\u001b[0mobj\u001b[0m\u001b[1;33m,\u001b[0m \u001b[1;33m/\u001b[0m\u001b[1;33m)\u001b[0m\u001b[1;33m\u001b[0m\u001b[1;33m\u001b[0m\u001b[0m\n",
            "\u001b[1;31mDocstring:\u001b[0m Return the number of items in a container.\n",
            "\u001b[1;31mType:\u001b[0m      builtin_function_or_method"
          ]
        }
      ],
      "source": [
        "len?"
      ]
    },
    {
      "cell_type": "markdown",
      "metadata": {},
      "source": [
        "? работает с методами объектов и самими объектами, с создавнными пользователем функциями"
      ]
    },
    {
      "cell_type": "code",
      "execution_count": 3,
      "metadata": {
        "trusted": true
      },
      "outputs": [
        {
          "name": "stdout",
          "output_type": "stream",
          "text": [
            "\u001b[1;31mDocstring:\u001b[0m\n",
            "Add an element to a set.\n",
            "\n",
            "This has no effect if the element is already present.\n",
            "\u001b[1;31mType:\u001b[0m      builtin_function_or_method"
          ]
        }
      ],
      "source": [
        "S = {1, 2, 3}\n",
        "S.add?"
      ]
    },
    {
      "cell_type": "code",
      "execution_count": 4,
      "metadata": {
        "trusted": true
      },
      "outputs": [
        {
          "name": "stdout",
          "output_type": "stream",
          "text": [
            "\u001b[1;31mType:\u001b[0m        set\n",
            "\u001b[1;31mString form:\u001b[0m {1, 2, 3}\n",
            "\u001b[1;31mLength:\u001b[0m      3\n",
            "\u001b[1;31mDocstring:\u001b[0m  \n",
            "set() -> new empty set object\n",
            "set(iterable) -> new set object\n",
            "\n",
            "Build an unordered collection of unique elements."
          ]
        }
      ],
      "source": [
        "S?"
      ]
    },
    {
      "cell_type": "code",
      "execution_count": 5,
      "metadata": {
        "trusted": true
      },
      "outputs": [
        {
          "name": "stdout",
          "output_type": "stream",
          "text": [
            "\u001b[1;31mSignature:\u001b[0m \u001b[0mnotion_check\u001b[0m\u001b[1;33m(\u001b[0m\u001b[1;33m)\u001b[0m\u001b[1;33m\u001b[0m\u001b[1;33m\u001b[0m\u001b[0m\n",
            "\u001b[1;31mDocstring:\u001b[0m\n",
            "check if notion work\n",
            "with user function\n",
            "\u001b[1;31mFile:\u001b[0m      c:\\users\\user\\appdata\\local\\temp\\ipykernel_79236\\40499487.py\n",
            "\u001b[1;31mType:\u001b[0m      function"
          ]
        }
      ],
      "source": [
        "def notion_check():\n",
        "    '''check if notion work\n",
        "    with user function'''\n",
        "    pass\n",
        "notion_check?"
      ]
    },
    {
      "cell_type": "markdown",
      "metadata": {},
      "source": [
        "?? используется для чтения исходного кода интересующего объекта"
      ]
    },
    {
      "cell_type": "code",
      "execution_count": 6,
      "metadata": {
        "trusted": true
      },
      "outputs": [
        {
          "name": "stdout",
          "output_type": "stream",
          "text": [
            "\u001b[1;31mSignature:\u001b[0m \u001b[0mnotion_check\u001b[0m\u001b[1;33m(\u001b[0m\u001b[1;33m)\u001b[0m\u001b[1;33m\u001b[0m\u001b[1;33m\u001b[0m\u001b[0m\n",
            "\u001b[1;31mSource:\u001b[0m   \n",
            "\u001b[1;32mdef\u001b[0m \u001b[0mnotion_check\u001b[0m\u001b[1;33m(\u001b[0m\u001b[1;33m)\u001b[0m\u001b[1;33m:\u001b[0m\u001b[1;33m\n",
            "\u001b[0m    \u001b[1;34m'''check if notion work\n",
            "    with user function'''\u001b[0m\u001b[1;33m\n",
            "\u001b[0m    \u001b[1;32mpass\u001b[0m\u001b[1;33m\u001b[0m\u001b[1;33m\u001b[0m\u001b[0m\n",
            "\u001b[1;31mFile:\u001b[0m      c:\\users\\user\\appdata\\local\\temp\\ipykernel_79236\\40499487.py\n",
            "\u001b[1;31mType:\u001b[0m      function"
          ]
        }
      ],
      "source": [
        "notion_check??"
      ]
    },
    {
      "cell_type": "code",
      "execution_count": 7,
      "metadata": {
        "trusted": true
      },
      "outputs": [
        {
          "name": "stdout",
          "output_type": "stream",
          "text": [
            "\u001b[1;31mInit signature:\u001b[0m \u001b[0mlist\u001b[0m\u001b[1;33m(\u001b[0m\u001b[0miterable\u001b[0m\u001b[1;33m=\u001b[0m\u001b[1;33m(\u001b[0m\u001b[1;33m)\u001b[0m\u001b[1;33m,\u001b[0m \u001b[1;33m/\u001b[0m\u001b[1;33m)\u001b[0m\u001b[1;33m\u001b[0m\u001b[1;33m\u001b[0m\u001b[0m\n",
            "\u001b[1;31mDocstring:\u001b[0m     \n",
            "Built-in mutable sequence.\n",
            "\n",
            "If no argument is given, the constructor creates a new empty list.\n",
            "The argument must be an iterable if specified.\n",
            "\u001b[1;31mType:\u001b[0m           type\n",
            "\u001b[1;31mSubclasses:\u001b[0m     _List, _HashedSeq, StackSummary, _Threads, ConvertingList, DeferredConfigList, _ymd, _Accumulator, SList, _ImmutableLineList, ..."
          ]
        }
      ],
      "source": [
        "list??"
      ]
    },
    {
      "cell_type": "markdown",
      "metadata": {},
      "source": [
        "С list не работает, так как класс реализован не на языке python"
      ]
    },
    {
      "cell_type": "markdown",
      "metadata": {},
      "source": [
        "\\* позволяет искать соответствие название"
      ]
    },
    {
      "cell_type": "code",
      "execution_count": 8,
      "metadata": {
        "trusted": true
      },
      "outputs": [
        {
          "name": "stdout",
          "output_type": "stream",
          "text": [
            "notion_check"
          ]
        }
      ],
      "source": [
        "*check?"
      ]
    },
    {
      "cell_type": "code",
      "execution_count": 9,
      "metadata": {
        "trusted": true
      },
      "outputs": [
        {
          "name": "stdout",
          "output_type": "stream",
          "text": [
            "set.discard"
          ]
        }
      ],
      "source": [
        "set.*car*?"
      ]
    },
    {
      "cell_type": "markdown",
      "metadata": {},
      "source": [
        "Если поиск идёт по первым буквам, то можно использовать клавишу Tab"
      ]
    },
    {
      "cell_type": "markdown",
      "metadata": {},
      "source": [
        "## «Магические» команды IPython"
      ]
    },
    {
      "cell_type": "markdown",
      "metadata": {},
      "source": [
        "В оболочке IPython имеются так называемые \"магические\" команды (эти команды не входят в интерпретатор питона, но интерпритируются оболочкой). Магические команды начинаются с символа %, если команду необходимо применить к строке кода, и с %%, если к блоку кода (не для всех команд есть версии %%)."
      ]
    },
    {
      "cell_type": "markdown",
      "metadata": {},
      "source": [
        "%paste и %cpaste используются для вставки скопированного кода, при этом машина сама его отформатирует"
      ]
    },
    {
      "cell_type": "markdown",
      "metadata": {},
      "source": [
        "%run используется для выполнения в сеансе оболочки IPython кода из других источников"
      ]
    },
    {
      "cell_type": "markdown",
      "metadata": {},
      "source": [
        "%timeit используется для определения времени выполнения следующего за ней однострочного оператора, %%timeit для многострочного. Если команда короткая,  то %timeit автоматически произведёт несколько запусков для более точного измерения"
      ]
    },
    {
      "cell_type": "code",
      "execution_count": 10,
      "metadata": {
        "trusted": true
      },
      "outputs": [
        {
          "name": "stdout",
          "output_type": "stream",
          "text": [
            "64.7 μs ± 6.05 μs per loop (mean ± std. dev. of 7 runs, 10,000 loops each)\n",
            "27.4 μs ± 993 ns per loop (mean ± std. dev. of 7 runs, 10,000 loops each)\n"
          ]
        }
      ],
      "source": [
        "%timeit set(i for i in range(1000))\n",
        "%timeit set(range(1000))"
      ]
    },
    {
      "cell_type": "code",
      "execution_count": 11,
      "metadata": {
        "trusted": true
      },
      "outputs": [
        {
          "name": "stdout",
          "output_type": "stream",
          "text": [
            "64.6 μs ± 9.12 μs per loop (mean ± std. dev. of 7 runs, 10,000 loops each)\n"
          ]
        }
      ],
      "source": [
        "%%timeit\n",
        "S = set()\n",
        "for i in range(1000):\n",
        "    S.add(i)"
      ]
    },
    {
      "cell_type": "markdown",
      "metadata": {},
      "source": [
        "К документации магических функций так же можно обращаться с помощью метода ?. Для получения списка всех доступных магических функция используется %lsmagic, для доступа к общему описанию доступных магических функций используется %magic"
      ]
    },
    {
      "cell_type": "markdown",
      "metadata": {},
      "source": [
        "##  Ввод и вывод"
      ]
    },
    {
      "cell_type": "markdown",
      "metadata": {},
      "source": [
        "Оболочка IPython позволяет пользоваться объектами In и Out чтобы обращаться к старым вводам и выводам. In является списком, хранящим вводы, а Out - словарём, хранящий выводы(если он существовал)"
      ]
    },
    {
      "cell_type": "code",
      "execution_count": 12,
      "metadata": {
        "trusted": true
      },
      "outputs": [
        {
          "name": "stdout",
          "output_type": "stream",
          "text": [
            "['', \"print('Hello world')\", \"get_ipython().run_line_magic('pinfo', 'len')\", \"S = {1, 2, 3}\\nget_ipython().run_line_magic('pinfo', 'S.add')\", \"get_ipython().run_line_magic('pinfo', 'S')\", \"def notion_check():\\n    '''check if notion work\\n    with user function'''\\n    pass\\nget_ipython().run_line_magic('pinfo', 'notion_check')\", \"get_ipython().run_line_magic('pinfo2', 'notion_check')\", \"get_ipython().run_line_magic('pinfo2', 'list')\", \"get_ipython().run_line_magic('psearch', '*check')\", \"get_ipython().run_line_magic('psearch', 'set.*car*')\", \"get_ipython().run_line_magic('timeit', 'set(i for i in range(1000))')\\nget_ipython().run_line_magic('timeit', 'set(range(1000))')\", \"get_ipython().run_cell_magic('timeit', '', 'S = set()\\\\nfor i in range(1000):\\\\n    S.add(i)\\\\n')\", 'print(In)']\n"
          ]
        }
      ],
      "source": [
        "print(In)"
      ]
    },
    {
      "cell_type": "code",
      "execution_count": 13,
      "metadata": {
        "trusted": true
      },
      "outputs": [
        {
          "data": {
            "text/plain": [
              "'sample_output_1'"
            ]
          },
          "execution_count": 13,
          "metadata": {},
          "output_type": "execute_result"
        }
      ],
      "source": [
        "\"sample_output_1\""
      ]
    },
    {
      "cell_type": "code",
      "execution_count": 14,
      "metadata": {
        "trusted": true
      },
      "outputs": [
        {
          "data": {
            "text/plain": [
              "'sample_output_2'"
            ]
          },
          "execution_count": 14,
          "metadata": {},
          "output_type": "execute_result"
        }
      ],
      "source": [
        "\"sample_output_2\""
      ]
    },
    {
      "cell_type": "code",
      "execution_count": 15,
      "metadata": {
        "trusted": true
      },
      "outputs": [
        {
          "data": {
            "text/plain": [
              "'sample_output_3'"
            ]
          },
          "execution_count": 15,
          "metadata": {},
          "output_type": "execute_result"
        }
      ],
      "source": [
        "\"sample_output_3\""
      ]
    },
    {
      "cell_type": "code",
      "execution_count": 16,
      "metadata": {
        "trusted": true
      },
      "outputs": [
        {
          "data": {
            "text/plain": [
              "{13: 'sample_output_1', 14: 'sample_output_2', 15: 'sample_output_3'}"
            ]
          },
          "execution_count": 16,
          "metadata": {},
          "output_type": "execute_result"
        }
      ],
      "source": [
        "Out"
      ]
    },
    {
      "cell_type": "markdown",
      "metadata": {},
      "source": [
        "Есть возможность быстрого вызова 3ёх предыдущих выводов с помощью подчёркивания, а так же есть возможность вызова k-ого вывода с помощью конструкции _k"
      ]
    },
    {
      "cell_type": "code",
      "execution_count": 17,
      "metadata": {
        "trusted": true
      },
      "outputs": [
        {
          "name": "stdout",
          "output_type": "stream",
          "text": [
            "sample_output_3\n",
            "sample_output_2\n",
            "sample_output_1\n"
          ]
        },
        {
          "data": {
            "text/plain": [
              "'sample_output_3'"
            ]
          },
          "execution_count": 17,
          "metadata": {},
          "output_type": "execute_result"
        }
      ],
      "source": [
        "print(_)\n",
        "print(__)\n",
        "print(___)\n",
        "_15"
      ]
    },
    {
      "cell_type": "markdown",
      "metadata": {},
      "source": [
        "Есть возможность подавления вывода с помощью ; в конце строки, при этом в словарь Out вывод тоже не попадает"
      ]
    },
    {
      "cell_type": "code",
      "execution_count": 18,
      "metadata": {
        "trusted": true
      },
      "outputs": [],
      "source": [
        "'sample_output';"
      ]
    },
    {
      "cell_type": "code",
      "execution_count": 19,
      "metadata": {
        "trusted": true
      },
      "outputs": [
        {
          "data": {
            "text/plain": [
              "False"
            ]
          },
          "execution_count": 19,
          "metadata": {},
          "output_type": "execute_result"
        }
      ],
      "source": [
        "18 in Out"
      ]
    },
    {
      "cell_type": "markdown",
      "metadata": {},
      "source": [
        "%history - просмотр истории  \n",
        "%rerun - повторное выполнение части истории команд  \n",
        "%save - сохранение части истории команд в файл  "
      ]
    },
    {
      "cell_type": "code",
      "execution_count": 20,
      "metadata": {
        "trusted": true
      },
      "outputs": [
        {
          "name": "stdout",
          "output_type": "stream",
          "text": [
            "   3:\n",
            "S = {1, 2, 3}\n",
            "S.add?\n",
            "   4: S?\n",
            "   5:\n",
            "def notion_check():\n",
            "    '''check if notion work\n",
            "    with user function'''\n",
            "    pass\n",
            "notion_check?\n",
            "   8: *check?\n"
          ]
        }
      ],
      "source": [
        "%history -n 3-5 8"
      ]
    },
    {
      "cell_type": "markdown",
      "metadata": {},
      "source": [
        "## Оболочка IPython и использование системного командного процессора"
      ]
    },
    {
      "cell_type": "markdown",
      "metadata": {},
      "source": [
        "Оболочка IPython может напрямую взамодействовать с системным командным процессором. Для этого необходимо указать ! и написать код команды"
      ]
    },
    {
      "cell_type": "markdown",
      "metadata": {},
      "source": [
        "Также можно передавать командному процессору аргументы, используемые в коде, и принимать возвращаемые командной строкой значения"
      ]
    },
    {
      "cell_type": "code",
      "execution_count": 21,
      "metadata": {
        "trusted": true
      },
      "outputs": [
        {
          "name": "stdout",
          "output_type": "stream",
          "text": [
            "c:\\Users\\user\\Desktop\\Projects\\���ᯥ�� �����\n"
          ]
        }
      ],
      "source": [
        "!cd"
      ]
    },
    {
      "cell_type": "code",
      "execution_count": 22,
      "metadata": {
        "trusted": true
      },
      "outputs": [
        {
          "name": "stdout",
          "output_type": "stream",
          "text": [
            "['c:\\\\Users\\\\user\\\\Desktop\\\\Projects\\\\���ᯥ�� �����']\n",
            "<class 'IPython.utils.text.SList'>\n"
          ]
        }
      ],
      "source": [
        "path = !cd\n",
        "print(path)\n",
        "print(type(path))"
      ]
    },
    {
      "cell_type": "markdown",
      "metadata": {},
      "source": [
        "## Ошибки и отладка"
      ]
    },
    {
      "cell_type": "markdown",
      "metadata": {},
      "source": [
        "При возникновение ошибки Python генерирует исключение, функция %xmode даёт возможность переключаться между тремя типами выводимой информации: Plain(простой), Context(По контексту, стоит по умолчанию), Verbose(Расширенный)"
      ]
    },
    {
      "cell_type": "code",
      "execution_count": 23,
      "metadata": {},
      "outputs": [],
      "source": [
        "def error_gen_func(num):\n",
        "    return int(num)"
      ]
    },
    {
      "cell_type": "code",
      "execution_count": 25,
      "metadata": {},
      "outputs": [
        {
          "name": "stdout",
          "output_type": "stream",
          "text": [
            "Exception reporting mode: Context\n"
          ]
        },
        {
          "ename": "ValueError",
          "evalue": "invalid literal for int() with base 10: 'Message'",
          "output_type": "error",
          "traceback": [
            "\u001b[1;31m---------------------------------------------------------------------------\u001b[0m",
            "\u001b[1;31mValueError\u001b[0m                                Traceback (most recent call last)",
            "Cell \u001b[1;32mIn[25], line 2\u001b[0m\n\u001b[0;32m      1\u001b[0m get_ipython()\u001b[38;5;241m.\u001b[39mrun_line_magic(\u001b[38;5;124m'\u001b[39m\u001b[38;5;124mxmode\u001b[39m\u001b[38;5;124m'\u001b[39m, \u001b[38;5;124m'\u001b[39m\u001b[38;5;124mContext\u001b[39m\u001b[38;5;124m'\u001b[39m)\n\u001b[1;32m----> 2\u001b[0m \u001b[43merror_gen_func\u001b[49m\u001b[43m(\u001b[49m\u001b[38;5;124;43m'\u001b[39;49m\u001b[38;5;124;43mMessage\u001b[39;49m\u001b[38;5;124;43m'\u001b[39;49m\u001b[43m)\u001b[49m\n",
            "Cell \u001b[1;32mIn[23], line 2\u001b[0m, in \u001b[0;36merror_gen_func\u001b[1;34m(num)\u001b[0m\n\u001b[0;32m      1\u001b[0m \u001b[38;5;28;01mdef\u001b[39;00m \u001b[38;5;21merror_gen_func\u001b[39m(num):\n\u001b[1;32m----> 2\u001b[0m     \u001b[38;5;28;01mreturn\u001b[39;00m \u001b[38;5;28;43mint\u001b[39;49m\u001b[43m(\u001b[49m\u001b[43mnum\u001b[49m\u001b[43m)\u001b[49m\n",
            "\u001b[1;31mValueError\u001b[0m: invalid literal for int() with base 10: 'Message'"
          ]
        }
      ],
      "source": [
        "%xmode Context\n",
        "error_gen_func('Message')"
      ]
    },
    {
      "cell_type": "code",
      "execution_count": 26,
      "metadata": {},
      "outputs": [
        {
          "name": "stdout",
          "output_type": "stream",
          "text": [
            "Exception reporting mode: Plain\n"
          ]
        },
        {
          "ename": "ValueError",
          "evalue": "invalid literal for int() with base 10: 'Message'",
          "output_type": "error",
          "traceback": [
            "Traceback \u001b[1;36m(most recent call last)\u001b[0m:\n",
            "\u001b[0m  Cell \u001b[0;32mIn[26], line 2\u001b[0m\n    error_gen_func('Message')\u001b[0m\n",
            "\u001b[1;36m  Cell \u001b[1;32mIn[23], line 2\u001b[1;36m in \u001b[1;35merror_gen_func\u001b[1;36m\n\u001b[1;33m    return int(num)\u001b[1;36m\n",
            "\u001b[1;31mValueError\u001b[0m\u001b[1;31m:\u001b[0m invalid literal for int() with base 10: 'Message'\n"
          ]
        }
      ],
      "source": [
        "%xmode Plain\n",
        "error_gen_func('Message')"
      ]
    },
    {
      "cell_type": "code",
      "execution_count": 27,
      "metadata": {},
      "outputs": [
        {
          "name": "stdout",
          "output_type": "stream",
          "text": [
            "Exception reporting mode: Verbose\n"
          ]
        },
        {
          "ename": "ValueError",
          "evalue": "invalid literal for int() with base 10: 'Message'",
          "output_type": "error",
          "traceback": [
            "\u001b[1;31m---------------------------------------------------------------------------\u001b[0m",
            "\u001b[1;31mValueError\u001b[0m                                Traceback (most recent call last)",
            "Cell \u001b[1;32mIn[27], line 2\u001b[0m\n\u001b[0;32m      1\u001b[0m get_ipython()\u001b[38;5;241m.\u001b[39mrun_line_magic(\u001b[38;5;124m'\u001b[39m\u001b[38;5;124mxmode\u001b[39m\u001b[38;5;124m'\u001b[39m, \u001b[38;5;124m'\u001b[39m\u001b[38;5;124mVerbose\u001b[39m\u001b[38;5;124m'\u001b[39m)\n\u001b[1;32m----> 2\u001b[0m \u001b[43merror_gen_func\u001b[49m\u001b[43m(\u001b[49m\u001b[38;5;124;43m'\u001b[39;49m\u001b[38;5;124;43mMessage\u001b[39;49m\u001b[38;5;124;43m'\u001b[39;49m\u001b[43m)\u001b[49m\n",
            "Cell \u001b[1;32mIn[23], line 2\u001b[0m, in \u001b[0;36merror_gen_func\u001b[1;34m(num='Message')\u001b[0m\n\u001b[0;32m      1\u001b[0m \u001b[38;5;28;01mdef\u001b[39;00m \u001b[38;5;21merror_gen_func\u001b[39m(num):\n\u001b[1;32m----> 2\u001b[0m     \u001b[38;5;28;01mreturn\u001b[39;00m \u001b[38;5;28;43mint\u001b[39;49m\u001b[43m(\u001b[49m\u001b[43mnum\u001b[49m\u001b[43m)\u001b[49m\n        num \u001b[1;34m= 'Message'\u001b[0m\n",
            "\u001b[1;31mValueError\u001b[0m: invalid literal for int() with base 10: 'Message'"
          ]
        }
      ],
      "source": [
        "%xmode Verbose\n",
        "error_gen_func('Message')"
      ]
    },
    {
      "cell_type": "markdown",
      "metadata": {},
      "source": [
        "%debug используется для отладки. Эта комананда открывает командную строку ipdb, которая позволяет изучать текущее состояние стека, доступные переменные и выполнять команды Python"
      ]
    },
    {
      "attachments": {
        "96a6ad84-30ad-4599-9634-221e57d9919b.png": {
          "image/png": "[encoded data removed]"
        }
      },
      "cell_type": "markdown",
      "metadata": {},
      "source": [
        "![table_for_debug.png](attachment:96a6ad84-30ad-4599-9634-221e57d9919b.png)"
      ]
    },
    {
      "cell_type": "code",
      "execution_count": 28,
      "metadata": {},
      "outputs": [
        {
          "name": "stdout",
          "output_type": "stream",
          "text": [
            "> \u001b[1;32mc:\\users\\user\\appdata\\local\\temp\\ipykernel_79236\\2169615937.py\u001b[0m(2)\u001b[0;36merror_gen_func\u001b[1;34m()\u001b[0m\n",
            "\n"
          ]
        },
        {
          "ename": "ValueError",
          "evalue": "invalid literal for int() with base 10: 'MessageMessage'",
          "output_type": "error",
          "traceback": [
            "\u001b[1;31m---------------------------------------------------------------------------\u001b[0m",
            "\u001b[1;31mValueError\u001b[0m                                Traceback (most recent call last)",
            "Cell \u001b[1;32mIn[28], line 4\u001b[0m\n\u001b[0;32m      2\u001b[0m s \u001b[38;5;241m=\u001b[39m \u001b[38;5;124m'\u001b[39m\u001b[38;5;124mMessage\u001b[39m\u001b[38;5;124m'\u001b[39m\n\u001b[0;32m      3\u001b[0m s \u001b[38;5;241m=\u001b[39m s \u001b[38;5;241m+\u001b[39m s\n\u001b[1;32m----> 4\u001b[0m \u001b[43merror_gen_func\u001b[49m\u001b[43m(\u001b[49m\u001b[43ms\u001b[49m\u001b[43m)\u001b[49m\n        s \u001b[1;34m= 'MessageMessage'\u001b[0m\n",
            "Cell \u001b[1;32mIn[23], line 2\u001b[0m, in \u001b[0;36merror_gen_func\u001b[1;34m(num='MessageMessage')\u001b[0m\n\u001b[0;32m      1\u001b[0m \u001b[38;5;28;01mdef\u001b[39;00m \u001b[38;5;21merror_gen_func\u001b[39m(num):\n\u001b[1;32m----> 2\u001b[0m     \u001b[38;5;28;01mreturn\u001b[39;00m \u001b[38;5;28;43mint\u001b[39;49m\u001b[43m(\u001b[49m\u001b[43mnum\u001b[49m\u001b[43m)\u001b[49m\n        num \u001b[1;34m= 'MessageMessage'\u001b[0m\n",
            "\u001b[1;31mValueError\u001b[0m: invalid literal for int() with base 10: 'MessageMessage'"
          ]
        }
      ],
      "source": [
        "%debug\n",
        "s = 'Message'\n",
        "s = s + s\n",
        "error_gen_func(s)"
      ]
    },
    {
      "cell_type": "markdown",
      "metadata": {},
      "source": [
        "## Профилирование и мониторинг скорости |выполнения кода"
      ]
    },
    {
      "cell_type": "markdown",
      "metadata": {},
      "source": [
        "Для замера времени выполнения кода предусмотрены две команды - %time и %timeit   "
      ]
    },
    {
      "cell_type": "markdown",
      "metadata": {},
      "source": [
        "%time делаёт 1 замер и просто выдаёт время выполнения кода   "
      ]
    },
    {
      "cell_type": "markdown",
      "metadata": {},
      "source": [
        "%timeit повторяет код много раз, из-за чего работает дольше %time, но выдаваемое время работы будет меньше, так как %timeit осуществляет некоторые манипуляции, убирают помехи со стороны системы. Например, %timeit блокирует работу сборщика мусора"
      ]
    },
    {
      "cell_type": "markdown",
      "metadata": {},
      "source": [
        "Иногда %time предпочтительнее, так как повторное выполнение кода может исказить результат замеров(как, например, если многократно сортировать один и тот же список)"
      ]
    },
    {
      "cell_type": "code",
      "execution_count": 29,
      "metadata": {},
      "outputs": [
        {
          "name": "stdout",
          "output_type": "stream",
          "text": [
            "Sorting an unsorted list:\n",
            "CPU times: total: 46.9 ms\n",
            "Wall time: 40.9 ms\n"
          ]
        }
      ],
      "source": [
        "import random\n",
        "L = [random.random() for _ in range(100000)]\n",
        "print(\"Sorting an unsorted list:\")\n",
        "%time L.sort()"
      ]
    },
    {
      "cell_type": "code",
      "execution_count": 30,
      "metadata": {},
      "outputs": [
        {
          "name": "stdout",
          "output_type": "stream",
          "text": [
            "Sorting an already sorted list:\n",
            "CPU times: total: 15.6 ms\n",
            "Wall time: 16.9 ms\n"
          ]
        }
      ],
      "source": [
        "print(\"Sorting an already sorted list:\")\n",
        "%time L.sort()"
      ]
    },
    {
      "cell_type": "code",
      "execution_count": 31,
      "metadata": {},
      "outputs": [
        {
          "name": "stdout",
          "output_type": "stream",
          "text": [
            "3.25 ms ± 956 μs per loop (mean ± std. dev. of 7 runs, 100 loops each)\n"
          ]
        }
      ],
      "source": [
        "%timeit L.sort()"
      ]
    },
    {
      "cell_type": "markdown",
      "metadata": {},
      "source": [
        "Так же использование %% позволяет замерять время выполнения целого блока кода"
      ]
    },
    {
      "cell_type": "markdown",
      "metadata": {},
      "source": [
        "%prun - функция для профилирования кода, результатом выполнения которой является таблица, в которой указано общее затраченное на выполнение функции времени и указанием места, которое выполнялось дольше всего"
      ]
    },
    {
      "cell_type": "code",
      "execution_count": 32,
      "metadata": {},
      "outputs": [],
      "source": [
        "def sum_of_lists(N):\n",
        "    total = 0\n",
        "    for i in range(5):\n",
        "        L = [j ^ (j >> i) for j in range(N)]\n",
        "        total += sum(L)\n",
        "    return total\n"
      ]
    },
    {
      "cell_type": "code",
      "execution_count": 33,
      "metadata": {},
      "outputs": [
        {
          "name": "stdout",
          "output_type": "stream",
          "text": [
            " "
          ]
        },
        {
          "name": "stdout",
          "output_type": "stream",
          "text": [
            "         312 function calls (308 primitive calls) in 1.896 seconds\n",
            "\n",
            "   Ordered by: internal time\n",
            "\n",
            "   ncalls  tottime  percall  cumtime  percall filename:lineno(function)\n",
            "        1    1.344    1.344    1.597    1.597 3709972162.py:1(sum_of_lists)\n",
            "        5    0.259    0.052    0.259    0.052 {built-in method builtins.sum}\n",
            "       12    0.175    0.015    0.182    0.015 socket.py:626(send)\n",
            "        1    0.049    0.049    1.646    1.646 <string>:1(<module>)\n",
            "        2    0.034    0.017    0.034    0.017 {method '__exit__' of 'sqlite3.Connection' objects}\n",
            "        1    0.017    0.017    0.017    0.017 {built-in method select.select}\n",
            "        1    0.014    0.014    0.014    0.014 socket.py:774(recv_multipart)\n",
            "        1    0.000    0.000    0.125    0.125 socket.py:703(send_multipart)\n",
            "       12    0.000    0.000    0.001    0.000 enum.py:1528(__or__)\n",
            "        1    0.000    0.000    0.000    0.000 {method 'disable' of '_lsprof.Profiler' objects}\n",
            "    57/53    0.000    0.000    0.000    0.000 {built-in method builtins.isinstance}\n",
            "        3    0.000    0.000    0.000    0.000 attrsettr.py:66(_get_attr_opt)\n",
            "        2    0.000    0.000    1.678    0.839 base_events.py:1874(_run_once)\n",
            "       21    0.000    0.000    0.000    0.000 enum.py:709(__call__)\n",
            "        3    0.000    0.000    0.000    0.000 attrsettr.py:43(__getattr__)\n",
            "       21    0.000    0.000    0.000    0.000 enum.py:1112(__new__)\n",
            "        1    0.000    0.000    0.125    0.125 iostream.py:278(_really_send)\n",
            "        2    0.000    0.000    0.000    0.000 typing.py:1439(__subclasscheck__)\n",
            "        2    0.000    0.000    0.000    0.000 typing.py:1168(__instancecheck__)\n",
            "        1    0.000    0.000    0.125    0.125 iostream.py:276(<lambda>)\n",
            "        1    0.000    0.000    0.000    0.000 iostream.py:718(_rotate_buffers)\n",
            "        2    0.000    0.000    0.000    0.000 typing.py:1232(__hash__)\n",
            "        1    0.000    0.000    0.000    0.000 traitlets.py:1527(_notify_observers)\n",
            "        1    0.000    0.000    0.000    0.000 iostream.py:616(_flush)\n",
            "        1    0.000    0.000    1.646    1.646 {built-in method builtins.exec}\n",
            "        5    0.000    0.000    0.000    0.000 enum.py:1538(__and__)\n",
            "        2    0.000    0.000    0.000    0.000 zmqstream.py:663(_rebuild_io_state)\n",
            "        3    0.000    0.000    0.000    0.000 typing.py:371(inner)\n",
            "        2    0.000    0.000    0.000    0.000 traitlets.py:718(_validate)\n",
            "        2    0.000    0.000    0.000    0.000 traitlets.py:3631(set)\n",
            "        2    0.000    0.000    0.015    0.007 events.py:82(_run)\n",
            "        3    0.000    0.000    0.000    0.000 <frozen importlib._bootstrap>:1384(_handle_fromlist)\n",
            "        2    0.000    0.000    0.000    0.000 queue.py:97(empty)\n",
            "        1    0.000    0.000    0.014    0.014 zmqstream.py:583(_handle_events)\n",
            "        1    0.000    0.000    0.000    0.000 asyncio.py:225(add_callback)\n",
            "        2    0.000    0.000    0.000    0.000 base_events.py:711(time)\n",
            "        8    0.000    0.000    0.000    0.000 {built-in method builtins.hasattr}\n",
            "        1    0.000    0.000    0.017    0.017 selectors.py:319(select)\n",
            "        2    0.000    0.000    0.014    0.007 ioloop.py:742(_run_callback)\n",
            "        2    0.000    0.000    0.000    0.000 zmqstream.py:686(_update_handler)\n",
            "        1    0.000    0.000    0.000    0.000 iostream.py:710(_flush_buffers)\n",
            "        2    0.000    0.000    0.000    0.000 {built-in method _abc._abc_subclasscheck}\n",
            "        2    0.000    0.000    0.000    0.000 {built-in method builtins.issubclass}\n",
            "        3    0.000    0.000    0.000    0.000 {built-in method builtins.getattr}\n",
            "        1    0.000    0.000    0.000    0.000 iostream.py:213(_is_master_process)\n",
            "        2    0.000    0.000    0.000    0.000 traitlets.py:689(set)\n",
            "        1    0.000    0.000    0.000    0.000 {built-in method _thread.allocate_lock}\n",
            "        2    0.000    0.000    0.000    0.000 <frozen abc>:121(__subclasscheck__)\n",
            "        2    0.000    0.000    0.000    0.000 traitlets.py:727(_cross_validate)\n",
            "        1    0.000    0.000    0.000    0.000 traitlets.py:1512(_notify_trait)\n",
            "        1    0.000    0.000    0.017    0.017 selectors.py:313(_select)\n",
            "        2    0.000    0.000    0.000    0.000 traitlets.py:708(__set__)\n",
            "        2    0.000    0.000    0.000    0.000 traitlets.py:3474(validate)\n",
            "        2    0.000    0.000    0.000    0.000 {built-in method time.monotonic}\n",
            "        1    0.000    0.000    0.014    0.014 zmqstream.py:624(_handle_recv)\n",
            "        2    0.000    0.000    0.015    0.007 {method 'run' of '_contextvars.Context' objects}\n",
            "        2    0.000    0.000    0.000    0.000 traitlets.py:3624(validate_elements)\n",
            "        1    0.000    0.000    0.000    0.000 iostream.py:157(_handle_event)\n",
            "        3    0.000    0.000    0.000    0.000 {built-in method builtins.max}\n",
            "        8    0.000    0.000    0.000    0.000 {built-in method builtins.len}\n",
            "        2    0.000    0.000    0.000    0.000 zmqstream.py:542(sending)\n",
            "        1    0.000    0.000    0.000    0.000 traitlets.py:1523(notify_change)\n",
            "        1    0.000    0.000    0.000    0.000 base_events.py:791(_call_soon)\n",
            "        2    0.000    0.000    0.000    0.000 traitlets.py:2304(validate)\n",
            "        2    0.000    0.000    0.000    0.000 queue.py:209(_qsize)\n",
            "        1    0.000    0.000    0.000    0.000 history.py:839(_writeout_output_cache)\n",
            "        1    0.000    0.000    0.000    0.000 events.py:32(__init__)\n",
            "        3    0.000    0.000    0.000    0.000 {method 'popleft' of 'collections.deque' objects}\n",
            "        2    0.000    0.000    0.000    0.000 traitlets.py:676(__get__)\n",
            "        1    0.000    0.000    0.000    0.000 zmqstream.py:556(_run_callback)\n",
            "        1    0.000    0.000    0.000    0.000 {built-in method _asyncio.get_running_loop}\n",
            "        1    0.000    0.000    0.000    0.000 base_events.py:762(call_soon)\n",
            "        1    0.000    0.000    0.000    0.000 iostream.py:216(_check_mp_mode)\n",
            "        3    0.000    0.000    0.000    0.000 {method 'upper' of 'str' objects}\n",
            "        1    0.000    0.000    0.000    0.000 {built-in method nt.getpid}\n",
            "        4    0.000    0.000    0.000    0.000 {method '__exit__' of '_thread.lock' objects}\n",
            "        1    0.000    0.000    0.014    0.014 zmqstream.py:694(<lambda>)\n",
            "        2    0.000    0.000    0.000    0.000 traitlets.py:629(get)\n",
            "        3    0.000    0.000    0.000    0.000 {method 'append' of 'collections.deque' objects}\n",
            "        1    0.000    0.000    0.000    0.000 threading.py:278(__enter__)\n",
            "        1    0.000    0.000    0.000    0.000 threading.py:293(_is_owned)\n",
            "        1    0.000    0.000    0.000    0.000 threading.py:287(_release_save)\n",
            "        1    0.000    0.000    0.000    0.000 {built-in method builtins.min}\n",
            "        4    0.000    0.000    0.000    0.000 {method 'get' of 'dict' objects}\n",
            "        1    0.000    0.000    0.000    0.000 {built-in method _contextvars.copy_context}\n",
            "        3    0.000    0.000    0.000    0.000 zmqstream.py:538(receiving)\n",
            "        1    0.000    0.000    0.000    0.000 iostream.py:255(closed)\n",
            "        2    0.000    0.000    0.000    0.000 {method 'acquire' of '_thread.lock' objects}\n",
            "        2    0.000    0.000    0.000    0.000 traitlets.py:3486(validate_elements)\n",
            "        2    0.000    0.000    0.000    0.000 {method 'extend' of 'list' objects}\n",
            "       15    0.000    0.000    0.000    0.000 typing.py:2107(cast)\n",
            "        2    0.000    0.000    0.000    0.000 {built-in method builtins.hash}\n",
            "        1    0.000    0.000    0.000    0.000 {built-in method _heapq.heappop}\n",
            "        1    0.000    0.000    0.000    0.000 selector_events.py:746(_process_events)\n",
            "        1    0.000    0.000    0.000    0.000 {method '__enter__' of '_thread.lock' objects}\n",
            "        1    0.000    0.000    0.000    0.000 {method 'items' of 'dict' objects}\n",
            "        1    0.000    0.000    0.000    0.000 base_events.py:517(_check_closed)\n",
            "        1    0.000    0.000    0.000    0.000 {method 'release' of '_thread.lock' objects}\n",
            "        1    0.000    0.000    0.000    0.000 {method '__exit__' of '_thread.RLock' objects}\n",
            "        1    0.000    0.000    0.000    0.000 base_events.py:1969(get_debug)"
          ]
        }
      ],
      "source": [
        "%prun sum_of_lists(1000000)"
      ]
    },
    {
      "cell_type": "markdown",
      "metadata": {},
      "source": [
        "Так же существует возможность построчного профилирования"
      ]
    },
    {
      "cell_type": "code",
      "execution_count": 34,
      "metadata": {},
      "outputs": [
        {
          "name": "stdout",
          "output_type": "stream",
          "text": [
            "Requirement already satisfied: line_profiler in c:\\users\\user\\appdata\\local\\programs\\python\\python312\\lib\\site-packages (4.1.3)Note: you may need to restart the kernel to use updated packages.\n",
            "\n"
          ]
        }
      ],
      "source": [
        "pip install line_profiler"
      ]
    },
    {
      "cell_type": "code",
      "execution_count": 35,
      "metadata": {},
      "outputs": [],
      "source": [
        " %load_ext line_profiler"
      ]
    },
    {
      "cell_type": "markdown",
      "metadata": {},
      "source": [
        "Для построчного профилирования используется команда %lprun"
      ]
    },
    {
      "cell_type": "code",
      "execution_count": 36,
      "metadata": {},
      "outputs": [
        {
          "name": "stdout",
          "output_type": "stream",
          "text": [
            "Timer unit: 1e-07 s\n",
            "\n",
            "Total time: 0.022082 s\n",
            "File: C:\\Users\\user\\AppData\\Local\\Temp\\ipykernel_79236\\3709972162.py\n",
            "Function: sum_of_lists at line 1\n",
            "\n",
            "Line #      Hits         Time  Per Hit   % Time  Line Contents\n",
            "==============================================================\n",
            "     1                                           def sum_of_lists(N):\n",
            "     2         1         34.0     34.0      0.0      total = 0\n",
            "     3         6        265.0     44.2      0.1      for i in range(5):\n",
            "     4     25005     198622.0      7.9     89.9          L = [j ^ (j >> i) for j in range(N)]\n",
            "     5         5      21853.0   4370.6      9.9          total += sum(L)\n",
            "     6         1         46.0     46.0      0.0      return total"
          ]
        }
      ],
      "source": [
        "%lprun -f sum_of_lists sum_of_lists(5000)"
      ]
    },
    {
      "cell_type": "markdown",
      "metadata": {},
      "source": [
        "Так же в оболочке имеется возможность измерять размер используемой памяти"
      ]
    },
    {
      "cell_type": "code",
      "execution_count": 37,
      "metadata": {},
      "outputs": [
        {
          "name": "stdout",
          "output_type": "stream",
          "text": [
            "Requirement already satisfied: memory_profiler in c:\\users\\user\\appdata\\local\\programs\\python\\python312\\lib\\site-packages (0.61.0)Note: you may need to restart the kernel to use updated packages.\n",
            "\n",
            "Requirement already satisfied: psutil in c:\\users\\user\\appdata\\roaming\\python\\python312\\site-packages (from memory_profiler) (6.0.0)\n"
          ]
        }
      ],
      "source": [
        "pip install memory_profiler"
      ]
    },
    {
      "cell_type": "code",
      "execution_count": 38,
      "metadata": {},
      "outputs": [],
      "source": [
        "%load_ext memory_profiler"
      ]
    },
    {
      "cell_type": "markdown",
      "metadata": {},
      "source": [
        "%memit - аналог %timeit, только используется для измерения памяти"
      ]
    },
    {
      "cell_type": "code",
      "execution_count": 39,
      "metadata": {},
      "outputs": [
        {
          "name": "stdout",
          "output_type": "stream",
          "text": [
            "peak memory: 81.20 MiB, increment: 0.07 MiB\n"
          ]
        }
      ],
      "source": [
        "%memit sum_of_lists(1000)"
      ]
    },
    {
      "cell_type": "markdown",
      "metadata": {},
      "source": [
        "%mprun - аналог %lprun для измерения количества памяти, работает только для функций, описанных в отдельных модулях"
      ]
    },
    {
      "cell_type": "code",
      "execution_count": 40,
      "metadata": {},
      "outputs": [
        {
          "name": "stdout",
          "output_type": "stream",
          "text": [
            "Overwriting mprun_demo.py\n"
          ]
        }
      ],
      "source": [
        "%%file mprun_demo.py\n",
        "def sum_of_lists(N):\n",
        "    total = 0\n",
        "    for i in range(5):\n",
        "        L = [j ^ (j >> i) for j in range(N)]\n",
        "        total += sum(L)\n",
        "        del L # Удалить ссылку на L\n",
        "    return total"
      ]
    },
    {
      "cell_type": "code",
      "execution_count": 41,
      "metadata": {},
      "outputs": [
        {
          "name": "stdout",
          "output_type": "stream",
          "text": [
            "\n"
          ]
        },
        {
          "name": "stdout",
          "output_type": "stream",
          "text": [
            "Filename: c:\\Users\\user\\Desktop\\Projects\\Конспект книги\\mprun_demo.py\n",
            "\n",
            "Line #    Mem usage    Increment  Occurrences   Line Contents\n",
            "=============================================================\n",
            "     1     81.2 MiB     81.2 MiB           1   def sum_of_lists(N):\n",
            "     2     81.2 MiB      0.0 MiB           1       total = 0\n",
            "     3     82.1 MiB     -0.1 MiB           6       for i in range(5):\n",
            "     4     83.2 MiB -306676.3 MiB      500005           L = [j ^ (j >> i) for j in range(N)]\n",
            "     5     83.2 MiB     -0.1 MiB           5           total += sum(L)\n",
            "     6     82.1 MiB     -5.1 MiB           5           del L # Удалить ссылку на L\n",
            "     7     82.1 MiB      0.0 MiB           1       return total"
          ]
        }
      ],
      "source": [
        "from mprun_demo import sum_of_lists\n",
        "%mprun -f sum_of_lists sum_of_lists(100000)"
      ]
    }
  ],
  "metadata": {
    "kernelspec": {
      "display_name": "Python 3",
      "language": "python",
      "name": "python3"
    },
    "language_info": {
      "codemirror_mode": {
        "name": "python",
        "version": 3
      },
      "file_extension": ".py",
      "mimetype": "text/x-python",
      "name": "python",
      "nbconvert_exporter": "python",
      "pygments_lexer": "ipython3",
      "version": "3.12.0"
    }
  },
  "nbformat": 4,
  "nbformat_minor": 4
}
