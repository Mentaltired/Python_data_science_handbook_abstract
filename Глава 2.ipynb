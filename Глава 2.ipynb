{
 "cells": [
  {
   "cell_type": "markdown",
   "metadata": {},
   "source": [
    "# Конспект книги \"Python для сложных задач\" Дж. Вандер Плас/"
   ]
  },
  {
   "cell_type": "markdown",
   "metadata": {},
   "source": [
    "## Глава 2. Введение в библиотеку NumPy"
   ]
  },
  {
   "cell_type": "markdown",
   "metadata": {},
   "source": [
    "Python - язык с динамической типизацией, то есть при работе с переменными нам не приходится явно указывать их тип, машина сама всё определяет. Это упрощает написание кода на Python, но имеет некоторые последствия"
   ]
  },
  {
   "cell_type": "markdown",
   "metadata": {},
   "source": [
    "Python написан на языке C, поэтому все объекты в Python - некоторая структура на C, например целое число в Python имеет следующую структуру:   \n",
    "![int_structure](int_structure.png)   \n",
    "здесь первые три пункта - счётчик ссылок, код типа и размер, а последнее - само число\n"
   ]
  },
  {
   "cell_type": "markdown",
   "metadata": {},
   "source": [
    "То есть при хранение целого числа имеется некоторая избыточность."
   ]
  },
  {
   "cell_type": "markdown",
   "metadata": {},
   "source": [
    "Это очень удобно, так как позволяет в структурах языка, содержащих много объектов(например, в списках и множествах), хранить данные разных типов. Рассмотрим на примере списков."
   ]
  },
  {
   "cell_type": "markdown",
   "metadata": {},
   "source": [
    "Список в Python хранит указатель на начало списка, длину списка и блок указателей на элементы списка, каждый из которых является полновесной структурой, которая(как мы видили на примере даже целого числа) имеет нетривиальное строение    \n",
    "![image](list_structure.png)"
   ]
  },
  {
   "cell_type": "markdown",
   "metadata": {},
   "source": [
    "Библиотека NumPy позволяет нам использовать массивы, то есть структуры, содержащие много объектов одного типа, и эффективно выполнять операции над ними "
   ]
  },
  {
   "cell_type": "markdown",
   "metadata": {},
   "source": [
    "## Создание массивов из списков языка Python"
   ]
  },
  {
   "cell_type": "code",
   "execution_count": 1,
   "metadata": {},
   "outputs": [],
   "source": [
    "import numpy as np"
   ]
  },
  {
   "cell_type": "markdown",
   "metadata": {},
   "source": [
    "np.array используется для создания массива из списка Python"
   ]
  },
  {
   "cell_type": "code",
   "execution_count": 2,
   "metadata": {},
   "outputs": [
    {
     "data": {
      "text/plain": [
       "array([1, 2, 3, 3, 5, 6])"
      ]
     },
     "execution_count": 2,
     "metadata": {},
     "output_type": "execute_result"
    }
   ],
   "source": [
    "np.array([1, 2, 3, 3, 5, 6])"
   ]
  },
  {
   "cell_type": "markdown",
   "metadata": {},
   "source": [
    "Если типы элементов в списке не совпадают, то NumPy попытается выполнить повышающее приведение типов"
   ]
  },
  {
   "cell_type": "code",
   "execution_count": 3,
   "metadata": {},
   "outputs": [
    {
     "data": {
      "text/plain": [
       "array([1.1, 1.2, 3. , 4. , 5.7])"
      ]
     },
     "execution_count": 3,
     "metadata": {},
     "output_type": "execute_result"
    }
   ],
   "source": [
    "np.array([1.1, 1.2, 3, 4, 5.7])"
   ]
  },
  {
   "cell_type": "markdown",
   "metadata": {},
   "source": [
    "Можно явно указать тип данных итогового массива"
   ]
  },
  {
   "cell_type": "code",
   "execution_count": 4,
   "metadata": {},
   "outputs": [
    {
     "data": {
      "text/plain": [
       "array([1., 2., 3.], dtype=float32)"
      ]
     },
     "execution_count": 4,
     "metadata": {},
     "output_type": "execute_result"
    }
   ],
   "source": [
    "np.array([1, 2, 3], dtype='float32')"
   ]
  },
  {
   "cell_type": "code",
   "execution_count": 5,
   "metadata": {},
   "outputs": [
    {
     "data": {
      "text/plain": [
       "array([2, 3, 6])"
      ]
     },
     "execution_count": 5,
     "metadata": {},
     "output_type": "execute_result"
    }
   ],
   "source": [
    "np.array([2.1, 3.4, 6.9], dtype='int')"
   ]
  },
  {
   "cell_type": "markdown",
   "metadata": {},
   "source": [
    "Массив NumPy могут явным образом описываться как многомерные. Например, вложенные списки будут преобразовываться в многомерные массивы"
   ]
  },
  {
   "cell_type": "code",
   "execution_count": 6,
   "metadata": {},
   "outputs": [
    {
     "data": {
      "text/plain": [
       "array([[1, 2, 3],\n",
       "       [4, 5, 6]])"
      ]
     },
     "execution_count": 6,
     "metadata": {},
     "output_type": "execute_result"
    }
   ],
   "source": [
    "np.array([[1, 2, 3], [4, 5, 6]])"
   ]
  },
  {
   "cell_type": "code",
   "execution_count": 7,
   "metadata": {},
   "outputs": [
    {
     "data": {
      "text/plain": [
       "array([[[1, 2],\n",
       "        [3, 4]],\n",
       "\n",
       "       [[1, 2],\n",
       "        [3, 4]],\n",
       "\n",
       "       [[1, 2],\n",
       "        [3, 4]]])"
      ]
     },
     "execution_count": 7,
     "metadata": {},
     "output_type": "execute_result"
    }
   ],
   "source": [
    "#трёхмерный массив\n",
    "np.array([[[1, 2], [3, 4]] for _ in range(3)])"
   ]
  },
  {
   "cell_type": "markdown",
   "metadata": {},
   "source": [
    "Есть возможность более эффективно создавать массивы с помощью методов библиотеки"
   ]
  },
  {
   "cell_type": "code",
   "execution_count": 8,
   "metadata": {},
   "outputs": [
    {
     "data": {
      "text/plain": [
       "array([0, 0, 0])"
      ]
     },
     "execution_count": 8,
     "metadata": {},
     "output_type": "execute_result"
    }
   ],
   "source": [
    "np.zeros(3, dtype=int)"
   ]
  },
  {
   "cell_type": "code",
   "execution_count": 9,
   "metadata": {},
   "outputs": [
    {
     "data": {
      "text/plain": [
       "array([[1., 1., 1., 1., 1.],\n",
       "       [1., 1., 1., 1., 1.]])"
      ]
     },
     "execution_count": 9,
     "metadata": {},
     "output_type": "execute_result"
    }
   ],
   "source": [
    "np.ones((2, 5), dtype=float)"
   ]
  },
  {
   "cell_type": "code",
   "execution_count": 10,
   "metadata": {},
   "outputs": [
    {
     "data": {
      "text/plain": [
       "array([[[1.1, 1.1],\n",
       "        [1.1, 1.1]],\n",
       "\n",
       "       [[1.1, 1.1],\n",
       "        [1.1, 1.1]]])"
      ]
     },
     "execution_count": 10,
     "metadata": {},
     "output_type": "execute_result"
    }
   ],
   "source": [
    "np.full((2, 2, 2), 1.1)"
   ]
  },
  {
   "cell_type": "code",
   "execution_count": 11,
   "metadata": {},
   "outputs": [
    {
     "data": {
      "text/plain": [
       "array([ 0,  2,  4,  6,  8, 10, 12, 14, 16, 18])"
      ]
     },
     "execution_count": 11,
     "metadata": {},
     "output_type": "execute_result"
    }
   ],
   "source": [
    "np.arange(0, 20, 2)"
   ]
  },
  {
   "cell_type": "code",
   "execution_count": 12,
   "metadata": {},
   "outputs": [
    {
     "data": {
      "text/plain": [
       "array([0. , 0.5, 1. ])"
      ]
     },
     "execution_count": 12,
     "metadata": {},
     "output_type": "execute_result"
    }
   ],
   "source": [
    "np.linspace(0, 1, 3)"
   ]
  },
  {
   "cell_type": "code",
   "execution_count": 13,
   "metadata": {},
   "outputs": [
    {
     "data": {
      "text/plain": [
       "array([[0.66470883, 0.4386804 , 0.66755892, 0.38357243],\n",
       "       [0.86591486, 0.11167002, 0.76696123, 0.87501646]])"
      ]
     },
     "execution_count": 13,
     "metadata": {},
     "output_type": "execute_result"
    }
   ],
   "source": [
    "np.random.random((2, 4))"
   ]
  },
  {
   "cell_type": "code",
   "execution_count": 14,
   "metadata": {},
   "outputs": [
    {
     "data": {
      "text/plain": [
       "array([[ 1.72590769,  0.59715405],\n",
       "       [ 2.13170375,  3.32016232],\n",
       "       [ 0.16660392,  5.79893284],\n",
       "       [ 4.48287538,  6.25962452],\n",
       "       [ 1.34943052, -4.99084741],\n",
       "       [ 1.61299451,  4.25391365],\n",
       "       [-1.05273351, -1.67605179]])"
      ]
     },
     "execution_count": 14,
     "metadata": {},
     "output_type": "execute_result"
    }
   ],
   "source": [
    "#создание массива нормально распределённых случайных чисел\n",
    "#с медианой 2 и отклонением 3\n",
    "np.random.normal(2, 3, (7, 2))"
   ]
  },
  {
   "cell_type": "code",
   "execution_count": 15,
   "metadata": {},
   "outputs": [
    {
     "data": {
      "text/plain": [
       "array([13, 11,  4, 11], dtype=int32)"
      ]
     },
     "execution_count": 15,
     "metadata": {},
     "output_type": "execute_result"
    }
   ],
   "source": [
    "np.random.randint(0, 17, 4)"
   ]
  },
  {
   "cell_type": "code",
   "execution_count": 16,
   "metadata": {},
   "outputs": [
    {
     "data": {
      "text/plain": [
       "array([[1., 0., 0., 0., 0.],\n",
       "       [0., 1., 0., 0., 0.],\n",
       "       [0., 0., 1., 0., 0.],\n",
       "       [0., 0., 0., 1., 0.],\n",
       "       [0., 0., 0., 0., 1.]])"
      ]
     },
     "execution_count": 16,
     "metadata": {},
     "output_type": "execute_result"
    }
   ],
   "source": [
    "np.eye(5)"
   ]
  },
  {
   "cell_type": "code",
   "execution_count": 17,
   "metadata": {},
   "outputs": [
    {
     "data": {
      "text/plain": [
       "array([3.33772792e-307, 4.22786102e-307, 2.78145267e-307, 4.00537061e-307,\n",
       "       9.45656391e-308, 0.00000000e+000])"
      ]
     },
     "execution_count": 17,
     "metadata": {},
     "output_type": "execute_result"
    }
   ],
   "source": [
    "np.empty(6)"
   ]
  },
  {
   "cell_type": "markdown",
   "metadata": {},
   "source": [
    "Приведём пример стандартных типов данных библиотеки   \n",
    "![](dtype.png)"
   ]
  },
  {
   "cell_type": "markdown",
   "metadata": {},
   "source": [
    "## Операции с массивами"
   ]
  },
  {
   "cell_type": "code",
   "execution_count": 18,
   "metadata": {},
   "outputs": [],
   "source": [
    "x1 = np.random.randint(10, size=6)\n",
    "x2 = np.random.randint(10, size=(6, 6))\n",
    "x3 = np.random.randint(10, size=(6, 6, 6))"
   ]
  },
  {
   "cell_type": "markdown",
   "metadata": {},
   "source": [
    "ndim используется для определения размерности массива   \n",
    "shape используется для определения размера каждого измерения   \n",
    "size используется для определения количества ячеек в массиве"
   ]
  },
  {
   "cell_type": "code",
   "execution_count": 19,
   "metadata": {},
   "outputs": [
    {
     "name": "stdout",
     "output_type": "stream",
     "text": [
      "x3 ndim:  3\n",
      "x3 shape: (6, 6, 6)\n",
      "x3 size:  216\n"
     ]
    }
   ],
   "source": [
    "print(\"x3 ndim: \", x3.ndim)\n",
    "print(\"x3 shape:\", x3.shape)\n",
    "print(\"x3 size: \", x3.size)"
   ]
  },
  {
   "cell_type": "markdown",
   "metadata": {},
   "source": [
    "dtype используется для определения типа данных в массиве   \n",
    "itemsize используется для определени размера одного элемента массива в баятах    \n",
    "nbytes используется для определения размера всех элементов массива в байтах"
   ]
  },
  {
   "cell_type": "code",
   "execution_count": 20,
   "metadata": {},
   "outputs": [
    {
     "name": "stdout",
     "output_type": "stream",
     "text": [
      "dtype: int32\n",
      "itemsize: 4 bytes\n",
      "nbytes: 864 bytes\n"
     ]
    }
   ],
   "source": [
    "print(\"dtype:\", x3.dtype)\n",
    "print(\"itemsize:\", x3.itemsize, \"bytes\")\n",
    "print(\"nbytes:\", x3.nbytes, \"bytes\")"
   ]
  },
  {
   "cell_type": "markdown",
   "metadata": {},
   "source": [
    "Обращение по индексу массива осуществляется в квадратных скобках"
   ]
  },
  {
   "cell_type": "code",
   "execution_count": 21,
   "metadata": {},
   "outputs": [
    {
     "data": {
      "text/plain": [
       "array([1, 6, 0, 7, 9, 9], dtype=int32)"
      ]
     },
     "execution_count": 21,
     "metadata": {},
     "output_type": "execute_result"
    }
   ],
   "source": [
    "x1"
   ]
  },
  {
   "cell_type": "code",
   "execution_count": 22,
   "metadata": {},
   "outputs": [
    {
     "data": {
      "text/plain": [
       "np.int32(1)"
      ]
     },
     "execution_count": 22,
     "metadata": {},
     "output_type": "execute_result"
    }
   ],
   "source": [
    "x1[0]"
   ]
  },
  {
   "cell_type": "code",
   "execution_count": 23,
   "metadata": {},
   "outputs": [
    {
     "data": {
      "text/plain": [
       "np.int32(9)"
      ]
     },
     "execution_count": 23,
     "metadata": {},
     "output_type": "execute_result"
    }
   ],
   "source": [
    "x1[-2]"
   ]
  },
  {
   "cell_type": "code",
   "execution_count": 24,
   "metadata": {},
   "outputs": [
    {
     "data": {
      "text/plain": [
       "array([1, 0, 0, 7, 9, 9], dtype=int32)"
      ]
     },
     "execution_count": 24,
     "metadata": {},
     "output_type": "execute_result"
    }
   ],
   "source": [
    "x1[1] = 0\n",
    "x1"
   ]
  },
  {
   "cell_type": "markdown",
   "metadata": {},
   "source": [
    "Если массив многомерный, то обращение происходит по кортежу символов, либо привычным способом"
   ]
  },
  {
   "cell_type": "code",
   "execution_count": 25,
   "metadata": {},
   "outputs": [
    {
     "data": {
      "text/plain": [
       "array([[9, 1, 0, 0, 0, 6],\n",
       "       [9, 6, 7, 7, 0, 0],\n",
       "       [5, 5, 1, 8, 2, 2],\n",
       "       [5, 6, 6, 2, 4, 0],\n",
       "       [4, 1, 6, 0, 1, 3],\n",
       "       [5, 0, 2, 6, 9, 7]], dtype=int32)"
      ]
     },
     "execution_count": 25,
     "metadata": {},
     "output_type": "execute_result"
    }
   ],
   "source": [
    "x2"
   ]
  },
  {
   "cell_type": "code",
   "execution_count": 26,
   "metadata": {},
   "outputs": [
    {
     "data": {
      "text/plain": [
       "np.int32(9)"
      ]
     },
     "execution_count": 26,
     "metadata": {},
     "output_type": "execute_result"
    }
   ],
   "source": [
    "x2[0, 0]"
   ]
  },
  {
   "cell_type": "code",
   "execution_count": 27,
   "metadata": {},
   "outputs": [
    {
     "data": {
      "text/plain": [
       "np.int32(9)"
      ]
     },
     "execution_count": 27,
     "metadata": {},
     "output_type": "execute_result"
    }
   ],
   "source": [
    "x2[0][0]"
   ]
  },
  {
   "cell_type": "code",
   "execution_count": 28,
   "metadata": {},
   "outputs": [
    {
     "data": {
      "text/plain": [
       "np.int32(6)"
      ]
     },
     "execution_count": 28,
     "metadata": {},
     "output_type": "execute_result"
    }
   ],
   "source": [
    "x2[0, -1]"
   ]
  },
  {
   "cell_type": "code",
   "execution_count": 29,
   "metadata": {},
   "outputs": [
    {
     "data": {
      "text/plain": [
       "array([10,  0,  0,  7,  9,  9], dtype=int32)"
      ]
     },
     "execution_count": 29,
     "metadata": {},
     "output_type": "execute_result"
    }
   ],
   "source": [
    "#при попытке изменить значение в массиве числом элементом другого типа, проитзойдёт автоматическое понижение типа\n",
    "x1[0] = 10.1010\n",
    "x1"
   ]
  },
  {
   "cell_type": "markdown",
   "metadata": {},
   "source": [
    "Можно обращаться к подмассиву с помощью срезов, происходит это привычным образом по синтаксису x[начало:конец:шаг] (если значение не указать, то будет применено значение по умолчанию: начало - 0, конец - размер соответствующего измерения массива, шаг - 1), причём шаг может быть отрицательным"
   ]
  },
  {
   "cell_type": "code",
   "execution_count": 30,
   "metadata": {},
   "outputs": [
    {
     "data": {
      "text/plain": [
       "array([0, 1, 2, 3, 4, 5, 6, 7, 8, 9])"
      ]
     },
     "execution_count": 30,
     "metadata": {},
     "output_type": "execute_result"
    }
   ],
   "source": [
    "x = np.arange(10)\n",
    "x"
   ]
  },
  {
   "cell_type": "code",
   "execution_count": 31,
   "metadata": {},
   "outputs": [
    {
     "data": {
      "text/plain": [
       "array([1, 4])"
      ]
     },
     "execution_count": 31,
     "metadata": {},
     "output_type": "execute_result"
    }
   ],
   "source": [
    "x[1:7:3]"
   ]
  },
  {
   "cell_type": "code",
   "execution_count": 32,
   "metadata": {},
   "outputs": [
    {
     "data": {
      "text/plain": [
       "array([0, 1, 2, 3, 4, 5, 6, 7, 8])"
      ]
     },
     "execution_count": 32,
     "metadata": {},
     "output_type": "execute_result"
    }
   ],
   "source": [
    "x[:-1:]"
   ]
  },
  {
   "cell_type": "code",
   "execution_count": 33,
   "metadata": {},
   "outputs": [
    {
     "data": {
      "text/plain": [
       "array([9, 8, 7])"
      ]
     },
     "execution_count": 33,
     "metadata": {},
     "output_type": "execute_result"
    }
   ],
   "source": [
    "x[:6:-1]"
   ]
  },
  {
   "cell_type": "code",
   "execution_count": 34,
   "metadata": {},
   "outputs": [
    {
     "data": {
      "text/plain": [
       "array([5, 4, 3, 2, 1, 0])"
      ]
     },
     "execution_count": 34,
     "metadata": {},
     "output_type": "execute_result"
    }
   ],
   "source": [
    "x[5::-1]"
   ]
  },
  {
   "cell_type": "markdown",
   "metadata": {},
   "source": [
    "Точно так же всё происходит в многомерных массива, только срезы разделяются запятыми"
   ]
  },
  {
   "cell_type": "code",
   "execution_count": 35,
   "metadata": {},
   "outputs": [
    {
     "data": {
      "text/plain": [
       "array([[9, 1, 0, 0, 0, 6],\n",
       "       [9, 6, 7, 7, 0, 0],\n",
       "       [5, 5, 1, 8, 2, 2],\n",
       "       [5, 6, 6, 2, 4, 0],\n",
       "       [4, 1, 6, 0, 1, 3],\n",
       "       [5, 0, 2, 6, 9, 7]], dtype=int32)"
      ]
     },
     "execution_count": 35,
     "metadata": {},
     "output_type": "execute_result"
    }
   ],
   "source": [
    "x2"
   ]
  },
  {
   "cell_type": "code",
   "execution_count": 36,
   "metadata": {},
   "outputs": [
    {
     "data": {
      "text/plain": [
       "array([[6, 2, 4],\n",
       "       [1, 8, 2],\n",
       "       [7, 7, 0],\n",
       "       [0, 0, 0]], dtype=int32)"
      ]
     },
     "execution_count": 36,
     "metadata": {},
     "output_type": "execute_result"
    }
   ],
   "source": [
    "x2[3::-1, 2:-1:]"
   ]
  },
  {
   "cell_type": "code",
   "execution_count": 37,
   "metadata": {},
   "outputs": [
    {
     "data": {
      "text/plain": [
       "array([[9, 1, 0, 0, 0, 6],\n",
       "       [5, 6, 6, 2, 4, 0]], dtype=int32)"
      ]
     },
     "execution_count": 37,
     "metadata": {},
     "output_type": "execute_result"
    }
   ],
   "source": [
    "# : - пустой срез\n",
    "x2[::3, :]"
   ]
  },
  {
   "cell_type": "code",
   "execution_count": 38,
   "metadata": {},
   "outputs": [
    {
     "data": {
      "text/plain": [
       "array([[9, 1, 0, 0, 0, 6],\n",
       "       [5, 6, 6, 2, 4, 0]], dtype=int32)"
      ]
     },
     "execution_count": 38,
     "metadata": {},
     "output_type": "execute_result"
    }
   ],
   "source": [
    "x2[::3]"
   ]
  },
  {
   "cell_type": "markdown",
   "metadata": {},
   "source": [
    "Срезы позволяют получать доступ к столбцу или строке"
   ]
  },
  {
   "cell_type": "code",
   "execution_count": 39,
   "metadata": {},
   "outputs": [
    {
     "name": "stdout",
     "output_type": "stream",
     "text": [
      "[1 6 5 6 1 0]\n"
     ]
    }
   ],
   "source": [
    "print(x2[:, 1])"
   ]
  },
  {
   "cell_type": "code",
   "execution_count": 40,
   "metadata": {},
   "outputs": [
    {
     "name": "stdout",
     "output_type": "stream",
     "text": [
      "[5 6 6 2 4 0]\n"
     ]
    }
   ],
   "source": [
    "#если нужно получить доступ к строке, пустой срез можно опустить\n",
    "print(x2[3])"
   ]
  },
  {
   "cell_type": "markdown",
   "metadata": {},
   "source": [
    "В отличии от списков Python, срезы массивов NumPy - это представления, а не копии, а значит производя манипуляции со срезом, соответствующие изменения произойдут и в основном массиве"
   ]
  },
  {
   "cell_type": "code",
   "execution_count": 41,
   "metadata": {},
   "outputs": [
    {
     "data": {
      "text/plain": [
       "array([[8, 2, 2],\n",
       "       [7, 0, 0],\n",
       "       [0, 0, 6]], dtype=int32)"
      ]
     },
     "execution_count": 41,
     "metadata": {},
     "output_type": "execute_result"
    }
   ],
   "source": [
    "x2_sub = x2[2::-1, 3:6]\n",
    "x2_sub"
   ]
  },
  {
   "cell_type": "code",
   "execution_count": 42,
   "metadata": {},
   "outputs": [
    {
     "data": {
      "text/plain": [
       "array([[  9,   1,   0,   0,   0,   6],\n",
       "       [  9,   6,   7,   7,   0,   0],\n",
       "       [  5,   5,   1, 100,   2,   2],\n",
       "       [  5,   6,   6,   2,   4,   0],\n",
       "       [  4,   1,   6,   0,   1,   3],\n",
       "       [  5,   0,   2,   6,   9,   7]], dtype=int32)"
      ]
     },
     "execution_count": 42,
     "metadata": {},
     "output_type": "execute_result"
    }
   ],
   "source": [
    "x2_sub[0, 0] = 100\n",
    "x2"
   ]
  },
  {
   "cell_type": "markdown",
   "metadata": {},
   "source": [
    "Но возможность создать копию, а не представление, осталась. Для этого используется метод copy()"
   ]
  },
  {
   "cell_type": "code",
   "execution_count": 43,
   "metadata": {},
   "outputs": [
    {
     "name": "stdout",
     "output_type": "stream",
     "text": [
      "[[100   2   2]\n",
      " [  7   0   0]\n",
      " [  0   0   6]]\n"
     ]
    }
   ],
   "source": [
    "x2_sub_copy = x2[2::-1, 3:6].copy()\n",
    "print(x2_sub_copy)"
   ]
  },
  {
   "cell_type": "code",
   "execution_count": 44,
   "metadata": {},
   "outputs": [
    {
     "name": "stdout",
     "output_type": "stream",
     "text": [
      "[[  9   1   0   0   0   6]\n",
      " [  9   6   7   7   0   0]\n",
      " [  5   5   1 100   2   2]\n",
      " [  5   6   6   2   4   0]\n",
      " [  4   1   6   0   1   3]\n",
      " [  5   0   2   6   9   7]]\n"
     ]
    }
   ],
   "source": [
    "x2_sub_copy[0, 0] = -100\n",
    "print(x2)"
   ]
  },
  {
   "cell_type": "markdown",
   "metadata": {},
   "source": [
    "Метод reshape() используется для изменения формы массива"
   ]
  },
  {
   "cell_type": "code",
   "execution_count": 45,
   "metadata": {},
   "outputs": [
    {
     "data": {
      "text/plain": [
       "array([[ 1,  2,  3,  4],\n",
       "       [ 5,  6,  7,  8],\n",
       "       [ 9, 10, 11, 12],\n",
       "       [13, 14, 15, 16]])"
      ]
     },
     "execution_count": 45,
     "metadata": {},
     "output_type": "execute_result"
    }
   ],
   "source": [
    "x = np.arange(1, 17)\n",
    "x.reshape((4, 4))"
   ]
  },
  {
   "cell_type": "code",
   "execution_count": 46,
   "metadata": {},
   "outputs": [
    {
     "data": {
      "text/plain": [
       "array([[ 1,  2,  3,  4,  5,  6,  7,  8],\n",
       "       [ 9, 10, 11, 12, 13, 14, 15, 16]])"
      ]
     },
     "execution_count": 46,
     "metadata": {},
     "output_type": "execute_result"
    }
   ],
   "source": [
    "x.reshape((2, 8))"
   ]
  },
  {
   "cell_type": "code",
   "execution_count": 47,
   "metadata": {},
   "outputs": [
    {
     "data": {
      "text/plain": [
       "array([[[ 1,  2,  3,  4],\n",
       "        [ 5,  6,  7,  8]],\n",
       "\n",
       "       [[ 9, 10, 11, 12],\n",
       "        [13, 14, 15, 16]]])"
      ]
     },
     "execution_count": 47,
     "metadata": {},
     "output_type": "execute_result"
    }
   ],
   "source": [
    "x.reshape((2, 2, 4))"
   ]
  },
  {
   "cell_type": "code",
   "execution_count": 48,
   "metadata": {},
   "outputs": [
    {
     "data": {
      "text/plain": [
       "array([[[[ 1,  2],\n",
       "         [ 3,  4]],\n",
       "\n",
       "        [[ 5,  6],\n",
       "         [ 7,  8]]],\n",
       "\n",
       "\n",
       "       [[[ 9, 10],\n",
       "         [11, 12]],\n",
       "\n",
       "        [[13, 14],\n",
       "         [15, 16]]]])"
      ]
     },
     "execution_count": 48,
     "metadata": {},
     "output_type": "execute_result"
    }
   ],
   "source": [
    "x.reshape((2, 2, 2, 2))"
   ]
  },
  {
   "cell_type": "markdown",
   "metadata": {},
   "source": [
    "reshape позволяет переделать одномерный массив в вектор-строку или вектор-столбец, но лучше использовать newaxis"
   ]
  },
  {
   "cell_type": "code",
   "execution_count": 49,
   "metadata": {},
   "outputs": [
    {
     "data": {
      "text/plain": [
       "array([[ 1,  2,  3,  4,  5,  6,  7,  8,  9, 10, 11, 12, 13, 14, 15, 16]])"
      ]
     },
     "execution_count": 49,
     "metadata": {},
     "output_type": "execute_result"
    }
   ],
   "source": [
    "y = x[np.newaxis, :].copy()\n",
    "y"
   ]
  },
  {
   "cell_type": "code",
   "execution_count": 50,
   "metadata": {},
   "outputs": [
    {
     "data": {
      "text/plain": [
       "array([[1],\n",
       "       [2],\n",
       "       [3]])"
      ]
     },
     "execution_count": 50,
     "metadata": {},
     "output_type": "execute_result"
    }
   ],
   "source": [
    "y = x[:3, np.newaxis].copy()\n",
    "y"
   ]
  },
  {
   "cell_type": "markdown",
   "metadata": {},
   "source": [
    "concatenate используется для слияния нескольких массивов"
   ]
  },
  {
   "cell_type": "code",
   "execution_count": 51,
   "metadata": {},
   "outputs": [],
   "source": [
    "x = np.arange(3)\n",
    "y = np.arange(3, 6)\n",
    "z = [6, 7, 8]"
   ]
  },
  {
   "cell_type": "code",
   "execution_count": 52,
   "metadata": {},
   "outputs": [
    {
     "data": {
      "text/plain": [
       "array([0, 1, 2, 3, 4, 5, 6, 7, 8])"
      ]
     },
     "execution_count": 52,
     "metadata": {},
     "output_type": "execute_result"
    }
   ],
   "source": [
    "np.concatenate([x, y, z])"
   ]
  },
  {
   "cell_type": "markdown",
   "metadata": {},
   "source": [
    "В качестве второго аргумента axis пишется ось, по которой происходит слияние многомерных массивов"
   ]
  },
  {
   "cell_type": "code",
   "execution_count": 53,
   "metadata": {},
   "outputs": [
    {
     "data": {
      "text/plain": [
       "array([[1, 2, 3, 1, 2, 3],\n",
       "       [4, 5, 6, 4, 5, 6]])"
      ]
     },
     "execution_count": 53,
     "metadata": {},
     "output_type": "execute_result"
    }
   ],
   "source": [
    "grid = np.array([[1, 2, 3], [4, 5, 6]])\n",
    "np.concatenate([grid, grid], axis=1)"
   ]
  },
  {
   "cell_type": "code",
   "execution_count": 54,
   "metadata": {},
   "outputs": [
    {
     "data": {
      "text/plain": [
       "array([[1, 2, 3],\n",
       "       [4, 5, 6],\n",
       "       [1, 2, 3],\n",
       "       [4, 5, 6]])"
      ]
     },
     "execution_count": 54,
     "metadata": {},
     "output_type": "execute_result"
    }
   ],
   "source": [
    "np.concatenate([grid, grid], axis=0)"
   ]
  },
  {
   "cell_type": "code",
   "execution_count": 55,
   "metadata": {},
   "outputs": [
    {
     "data": {
      "text/plain": [
       "array([[[3, 7, 3],\n",
       "        [4, 8, 8],\n",
       "        [7, 7, 3]],\n",
       "\n",
       "       [[9, 3, 7],\n",
       "        [0, 6, 7],\n",
       "        [1, 0, 1]],\n",
       "\n",
       "       [[8, 4, 3],\n",
       "        [8, 3, 0],\n",
       "        [9, 4, 0]]], dtype=int32)"
      ]
     },
     "execution_count": 55,
     "metadata": {},
     "output_type": "execute_result"
    }
   ],
   "source": [
    "grid = np.random.randint(10, size=(3, 3, 3))\n",
    "grid"
   ]
  },
  {
   "cell_type": "code",
   "execution_count": 56,
   "metadata": {},
   "outputs": [
    {
     "data": {
      "text/plain": [
       "array([[[3, 7, 3, 3, 7, 3],\n",
       "        [4, 8, 8, 4, 8, 8],\n",
       "        [7, 7, 3, 7, 7, 3]],\n",
       "\n",
       "       [[9, 3, 7, 9, 3, 7],\n",
       "        [0, 6, 7, 0, 6, 7],\n",
       "        [1, 0, 1, 1, 0, 1]],\n",
       "\n",
       "       [[8, 4, 3, 8, 4, 3],\n",
       "        [8, 3, 0, 8, 3, 0],\n",
       "        [9, 4, 0, 9, 4, 0]]], dtype=int32)"
      ]
     },
     "execution_count": 56,
     "metadata": {},
     "output_type": "execute_result"
    }
   ],
   "source": [
    "np.concatenate([grid, grid], axis=2)"
   ]
  },
  {
   "cell_type": "code",
   "execution_count": 57,
   "metadata": {},
   "outputs": [
    {
     "data": {
      "text/plain": [
       "array([[[3, 7, 3],\n",
       "        [4, 8, 8],\n",
       "        [7, 7, 3],\n",
       "        [3, 7, 3],\n",
       "        [4, 8, 8],\n",
       "        [7, 7, 3]],\n",
       "\n",
       "       [[9, 3, 7],\n",
       "        [0, 6, 7],\n",
       "        [1, 0, 1],\n",
       "        [9, 3, 7],\n",
       "        [0, 6, 7],\n",
       "        [1, 0, 1]],\n",
       "\n",
       "       [[8, 4, 3],\n",
       "        [8, 3, 0],\n",
       "        [9, 4, 0],\n",
       "        [8, 4, 3],\n",
       "        [8, 3, 0],\n",
       "        [9, 4, 0]]], dtype=int32)"
      ]
     },
     "execution_count": 57,
     "metadata": {},
     "output_type": "execute_result"
    }
   ],
   "source": [
    "np.concatenate([grid, grid], axis=1)"
   ]
  },
  {
   "cell_type": "code",
   "execution_count": 58,
   "metadata": {},
   "outputs": [
    {
     "data": {
      "text/plain": [
       "array([[[3, 7, 3, 3, 7, 3, 3, 7, 3],\n",
       "        [4, 8, 8, 4, 8, 8, 4, 8, 8],\n",
       "        [7, 7, 3, 7, 7, 3, 7, 7, 3]],\n",
       "\n",
       "       [[9, 3, 7, 9, 3, 7, 9, 3, 7],\n",
       "        [0, 6, 7, 0, 6, 7, 0, 6, 7],\n",
       "        [1, 0, 1, 1, 0, 1, 1, 0, 1]],\n",
       "\n",
       "       [[8, 4, 3, 8, 4, 3, 8, 4, 3],\n",
       "        [8, 3, 0, 8, 3, 0, 8, 3, 0],\n",
       "        [9, 4, 0, 9, 4, 0, 9, 4, 0]]], dtype=int32)"
      ]
     },
     "execution_count": 58,
     "metadata": {},
     "output_type": "execute_result"
    }
   ],
   "source": [
    "np.concatenate([grid, grid, grid], axis=2)"
   ]
  },
  {
   "cell_type": "markdown",
   "metadata": {},
   "source": [
    "Для слияния массивов разных размеров используются функции np.vstack(вертикальное объединение) и np.hstack(горизонтальное объединение)"
   ]
  },
  {
   "cell_type": "code",
   "execution_count": 59,
   "metadata": {},
   "outputs": [
    {
     "data": {
      "text/plain": [
       "array([[1, 2],\n",
       "       [3, 4],\n",
       "       [5, 6]])"
      ]
     },
     "execution_count": 59,
     "metadata": {},
     "output_type": "execute_result"
    }
   ],
   "source": [
    "x = np.array([1, 2])\n",
    "y = np.array([[3, 4], [5, 6]])\n",
    "np.vstack([x, y])"
   ]
  },
  {
   "cell_type": "code",
   "execution_count": 60,
   "metadata": {},
   "outputs": [
    {
     "data": {
      "text/plain": [
       "array([[3, 4, 1, 2],\n",
       "       [5, 6, 1, 2]])"
      ]
     },
     "execution_count": 60,
     "metadata": {},
     "output_type": "execute_result"
    }
   ],
   "source": [
    "np.hstack([y, np.vstack([x, x])])"
   ]
  },
  {
   "cell_type": "markdown",
   "metadata": {},
   "source": [
    "Для объединения по 3ей оси используется np.dstack"
   ]
  },
  {
   "cell_type": "markdown",
   "metadata": {},
   "source": [
    "Так же в библиотеке присутствуют функции для разбиения массивов: np.split, np.hsplit, np.vsplit, крирые принимают разбиваемый массив и индексы, задающие точки разбиения"
   ]
  },
  {
   "cell_type": "code",
   "execution_count": 61,
   "metadata": {},
   "outputs": [
    {
     "data": {
      "text/plain": [
       "(array([1, 2, 3]), array([4, 5, 6]), array([7, 8, 9]))"
      ]
     },
     "execution_count": 61,
     "metadata": {},
     "output_type": "execute_result"
    }
   ],
   "source": [
    "x = [1, 2, 3, 4, 5, 6, 7, 8, 9]\n",
    "x1, x2, x3 = np.split(x, [3, 6])\n",
    "x1, x2, x3"
   ]
  },
  {
   "cell_type": "code",
   "execution_count": 62,
   "metadata": {},
   "outputs": [
    {
     "name": "stdout",
     "output_type": "stream",
     "text": [
      "[[0 1 2 3 4 5 6 7]] [[ 8  9 10 11 12 13 14 15]]\n"
     ]
    }
   ],
   "source": [
    "grid = np.arange(16).reshape((2, 8))\n",
    "upper, lower = np.vsplit(grid, [1])\n",
    "print(upper, lower)"
   ]
  },
  {
   "cell_type": "code",
   "execution_count": 63,
   "metadata": {},
   "outputs": [
    {
     "name": "stdout",
     "output_type": "stream",
     "text": [
      "[[ 0  1  2]\n",
      " [ 8  9 10]]\n",
      "[[ 3  4  5  6  7]\n",
      " [11 12 13 14 15]]\n"
     ]
    }
   ],
   "source": [
    "left, right = np.hsplit(grid, [3])\n",
    "print(left)\n",
    "print(right)"
   ]
  },
  {
   "cell_type": "markdown",
   "metadata": {},
   "source": [
    "## Выполнение вычислений над массивами библиотеки NumPy: универсальные функции"
   ]
  },
  {
   "cell_type": "markdown",
   "metadata": {},
   "source": [
    "Циклы в Python работают очень медленно, так как на каждой итерации цикла происходит проверка типов и диспетчеризация функций(то есть поиск подходящих под тип объектов функций)"
   ]
  },
  {
   "cell_type": "code",
   "execution_count": 64,
   "metadata": {},
   "outputs": [
    {
     "name": "stdout",
     "output_type": "stream",
     "text": [
      "1.85 s ± 97.7 ms per loop (mean ± std. dev. of 7 runs, 1 loop each)\n"
     ]
    }
   ],
   "source": [
    "def func_for_test(arr):\n",
    "    output = np.empty(len(arr))\n",
    "    for i in range(len(arr)):\n",
    "        output[i] = 1.0 / arr[i]\n",
    "    return output\n",
    "\n",
    "arr = np.random.randint(1, 100, size=1_000_000)\n",
    "%timeit func_for_test(arr)"
   ]
  },
  {
   "cell_type": "markdown",
   "metadata": {},
   "source": [
    "То есть для выполнения функции с циклом на всего миллион итераций потребовала больше секунды времени"
   ]
  },
  {
   "cell_type": "markdown",
   "metadata": {},
   "source": [
    "Библиотека NumPy предоставляет возможность использовать универсальные функции для выполнения операций над массивами со статической типизацией. Их главная задача состоит в быстром выполнении повторяющихся операций над элементами из массивов NumPy"
   ]
  },
  {
   "cell_type": "markdown",
   "metadata": {},
   "source": [
    "Рассмотрим так называемые векторизованные операции - интерфейс, позволяющий выполнить операцию с массивом, которая потом будет применена к каждому его элементу."
   ]
  },
  {
   "cell_type": "code",
   "execution_count": 65,
   "metadata": {},
   "outputs": [
    {
     "name": "stdout",
     "output_type": "stream",
     "text": [
      "[1 3 6 4 4]\n",
      "[1.         0.33333333 0.16666667 0.25       0.25      ]\n",
      "[1.         0.33333333 0.16666667 0.25       0.25      ]\n"
     ]
    }
   ],
   "source": [
    "values = np.random.randint(1, 10, 5)\n",
    "print(values)\n",
    "print(func_for_test(values))\n",
    "print(1 / values)"
   ]
  },
  {
   "cell_type": "code",
   "execution_count": 66,
   "metadata": {},
   "outputs": [
    {
     "name": "stdout",
     "output_type": "stream",
     "text": [
      "7.79 ms ± 415 μs per loop (mean ± std. dev. of 7 runs, 100 loops each)\n"
     ]
    }
   ],
   "source": [
    "%timeit 1 / arr"
   ]
  },
  {
   "cell_type": "markdown",
   "metadata": {},
   "source": [
    "Подобным образом можно выполнять операции над двумя массивами"
   ]
  },
  {
   "cell_type": "code",
   "execution_count": 67,
   "metadata": {},
   "outputs": [
    {
     "name": "stdout",
     "output_type": "stream",
     "text": [
      "[6 6 5 1 6] [7 5 6 9 9]\n",
      "[42 30 30  9 54]\n"
     ]
    }
   ],
   "source": [
    "arr1 = np.random.randint(1, 10, 5)\n",
    "arr2 = np.random.randint(5, 10, 5)\n",
    "print(arr1, arr2)\n",
    "print(arr1 * arr2)"
   ]
  },
  {
   "cell_type": "markdown",
   "metadata": {},
   "source": [
    "С многомерными массивами это тоже работает"
   ]
  },
  {
   "cell_type": "code",
   "execution_count": 68,
   "metadata": {},
   "outputs": [
    {
     "name": "stdout",
     "output_type": "stream",
     "text": [
      "[[5 5]\n",
      " [4 2]]\n",
      "[[32 32]\n",
      " [16  4]]\n"
     ]
    }
   ],
   "source": [
    "grid = np.random.randint(1, 10, (2, 2))\n",
    "print(grid)\n",
    "print(2 ** grid)"
   ]
  },
  {
   "cell_type": "code",
   "execution_count": 69,
   "metadata": {},
   "outputs": [
    {
     "data": {
      "text/plain": [
       "array([[-3, -3],\n",
       "       [-3, -1]], dtype=int32)"
      ]
     },
     "execution_count": 69,
     "metadata": {},
     "output_type": "execute_result"
    }
   ],
   "source": [
    "(-grid * 2 + 1) // 3"
   ]
  },
  {
   "cell_type": "markdown",
   "metadata": {},
   "source": [
    "Вместо операторов можно использовать эквивалентные им универсальные функции   \n",
    "![](operands_func.png)"
   ]
  },
  {
   "cell_type": "markdown",
   "metadata": {},
   "source": [
    "Так же NumPy понимает функцию взятия абсолютного значения"
   ]
  },
  {
   "cell_type": "code",
   "execution_count": 70,
   "metadata": {},
   "outputs": [
    {
     "name": "stdout",
     "output_type": "stream",
     "text": [
      "[[-2.27324857 -0.93543234  2.68276376]\n",
      " [-0.69332625  3.52758382  0.34213867]\n",
      " [ 1.08849817  3.57487077  4.99982345]]\n",
      "[[2.27324857 0.93543234 2.68276376]\n",
      " [0.69332625 3.52758382 0.34213867]\n",
      " [1.08849817 3.57487077 4.99982345]]\n"
     ]
    }
   ],
   "source": [
    "grid = np.random.uniform(-5, 5, (3, 3))\n",
    "print(grid)\n",
    "print(np.abs(grid))"
   ]
  },
  {
   "cell_type": "markdown",
   "metadata": {},
   "source": [
    "Эта функция работает даже с комплексными числами"
   ]
  },
  {
   "cell_type": "markdown",
   "metadata": {},
   "source": [
    "Есть возможность вычислять тригонометрические функции от массивов"
   ]
  },
  {
   "cell_type": "code",
   "execution_count": 71,
   "metadata": {},
   "outputs": [
    {
     "name": "stdout",
     "output_type": "stream",
     "text": [
      "theta =  [-3.14159265 -1.57079633  0.          1.57079633  3.14159265]\n",
      "sin(theta) =  [-1.2246468e-16 -1.0000000e+00  0.0000000e+00  1.0000000e+00\n",
      "  1.2246468e-16]\n",
      "cos(theta) =  [-1.000000e+00  6.123234e-17  1.000000e+00  6.123234e-17 -1.000000e+00]\n",
      "tan(theta) =  [ 1.22464680e-16 -1.63312394e+16  0.00000000e+00  1.63312394e+16\n",
      " -1.22464680e-16]\n"
     ]
    }
   ],
   "source": [
    "theta = np.linspace(-np.pi, np.pi, 5)\n",
    "print(\"theta = \", theta)\n",
    "print(\"sin(theta) = \", np.sin(theta))\n",
    "print(\"cos(theta) = \", np.cos(theta))\n",
    "print(\"tan(theta) = \", np.tan(theta))"
   ]
  },
  {
   "cell_type": "code",
   "execution_count": 72,
   "metadata": {},
   "outputs": [
    {
     "name": "stdout",
     "output_type": "stream",
     "text": [
      "x =  [-1.  0.  1.]\n",
      "arcsin(x) =  [-1.57079633  0.          1.57079633]\n",
      "arccos(x) =  [3.14159265 1.57079633 0.        ]\n",
      "arctan(x) =  [-0.78539816  0.          0.78539816]\n",
      "x =  [-1.  0.  1.]\n"
     ]
    }
   ],
   "source": [
    "x = np.linspace(-1, 1, 3)\n",
    "print(\"x = \", x)\n",
    "print(\"arcsin(x) = \", np.arcsin(x))\n",
    "print(\"arccos(x) = \", np.arccos(x))\n",
    "print(\"arctan(x) = \", np.arctan(x))\n",
    "print(\"x = \", np.arctan(np.tan(x)))"
   ]
  },
  {
   "cell_type": "markdown",
   "metadata": {},
   "source": [
    "Есть возможность вычислять показательные функции и логарифмы"
   ]
  },
  {
   "cell_type": "code",
   "execution_count": 73,
   "metadata": {},
   "outputs": [
    {
     "name": "stdout",
     "output_type": "stream",
     "text": [
      "e^x = [ 1.          2.71828183  7.3890561  20.08553692 54.59815003]\n",
      "2^x = [ 1.  2.  4.  8. 16.]\n",
      "5^x = [  1   5  25 125 625]\n"
     ]
    }
   ],
   "source": [
    "x = np.arange(5)\n",
    "print(\"e^x =\", np.exp(x))\n",
    "print(\"2^x =\", np.exp2(x))\n",
    "print(\"5^x =\", np.power(5, x))"
   ]
  },
  {
   "cell_type": "code",
   "execution_count": 74,
   "metadata": {},
   "outputs": [
    {
     "name": "stdout",
     "output_type": "stream",
     "text": [
      "x = [  1   2   4  10 100]\n",
      "ln(x) = [0.         0.69314718 1.38629436 2.30258509 4.60517019]\n",
      "log2(x) = [0.         1.         2.         3.32192809 6.64385619]\n",
      "log10(x) = [0.         0.30103    0.60205999 1.         2.        ]\n",
      "log5(x) = [0.         0.43067656 0.86135312 1.43067656 2.86135312]\n"
     ]
    }
   ],
   "source": [
    "x = np.array([1, 2, 4, 10, 100])\n",
    "print(\"x =\", x)\n",
    "print(\"ln(x) =\", np.log(x))\n",
    "print(\"log2(x) =\", np.log2(x))\n",
    "print(\"log10(x) =\", np.log10(x))\n",
    "print(\"log5(x) =\", np.log(x) / np.log(5))"
   ]
  },
  {
   "cell_type": "markdown",
   "metadata": {},
   "source": [
    "Имеются функции, дающие более точные значения экспоненты и логарифма при малых аргументах"
   ]
  },
  {
   "cell_type": "code",
   "execution_count": 75,
   "metadata": {},
   "outputs": [
    {
     "name": "stdout",
     "output_type": "stream",
     "text": [
      "exp(x) - 1 = [0.         0.10517092 0.01005017 0.0010005 ]\n",
      "log(1 + x) = [0.         0.09531018 0.00995033 0.0009995 ]\n"
     ]
    }
   ],
   "source": [
    "x = np.array([0, 0.1, 0.01, 0.001])\n",
    "print(\"exp(x) - 1 =\", np.expm1(x))\n",
    "print(\"log(1 + x) =\", np.log1p(x))"
   ]
  },
  {
   "cell_type": "markdown",
   "metadata": {},
   "source": [
    "Так же в библиотеке реализованы многие другие функции, например гамма-функция, бета-функция, гиперболические тригонометрические функции, преобразование из радианов в градусы, функция ошибок и др"
   ]
  },
  {
   "cell_type": "markdown",
   "metadata": {},
   "source": [
    "Для сохранения результатов вычислений, можно указывать выходной массив в аргументе out, причём в качестве аргумента можно указывать даже представления массивов"
   ]
  },
  {
   "cell_type": "code",
   "execution_count": 76,
   "metadata": {},
   "outputs": [
    {
     "data": {
      "text/plain": [
       "array([0. , 0.2, 0.4, 0.6, 0.8, 1. , 1. , 1. , 1. , 1. ])"
      ]
     },
     "execution_count": 76,
     "metadata": {},
     "output_type": "execute_result"
    }
   ],
   "source": [
    "x = np.arange(5)\n",
    "y = np.empty(10)\n",
    "np.divide(x, 5, out=y[:5])\n",
    "y"
   ]
  },
  {
   "cell_type": "code",
   "execution_count": 77,
   "metadata": {},
   "outputs": [
    {
     "data": {
      "text/plain": [
       "array([0. , 0.2, 0.4, 0.6, 0.8, 1. , 1. , 1. , 1. , 1. ])"
      ]
     },
     "execution_count": 77,
     "metadata": {},
     "output_type": "execute_result"
    }
   ],
   "source": [
    "#тут создаётся временный массив для хранения результата x / 5 и потом значения из него копируются в y\n",
    "x = np.arange(5)\n",
    "y = np.empty(10)\n",
    "y[:5] = x / 5\n",
    "y"
   ]
  },
  {
   "cell_type": "markdown",
   "metadata": {},
   "source": [
    "reduce миногократно применяет заданную бинарную функцию к элементам массива до тех пор, пока не останется только один элемент   \n",
    "accumulate действует аналогично, только сохраняет промежуточные результаты"
   ]
  },
  {
   "cell_type": "code",
   "execution_count": 78,
   "metadata": {},
   "outputs": [
    {
     "name": "stdout",
     "output_type": "stream",
     "text": [
      "4096\n"
     ]
    }
   ],
   "source": [
    "#результат будет 2 ** 3 ** 4\n",
    "x = np.arange(2, 5)\n",
    "print(np.power.reduce(x))"
   ]
  },
  {
   "cell_type": "code",
   "execution_count": 79,
   "metadata": {},
   "outputs": [
    {
     "name": "stdout",
     "output_type": "stream",
     "text": [
      "[   2    8 4096]\n"
     ]
    }
   ],
   "source": [
    "print(np.power.accumulate(x))"
   ]
  },
  {
   "cell_type": "markdown",
   "metadata": {},
   "source": [
    "Метод outer позволяет выводить результат применения универсальной функции ко всем пара двух аргументов"
   ]
  },
  {
   "cell_type": "code",
   "execution_count": 80,
   "metadata": {},
   "outputs": [
    {
     "name": "stdout",
     "output_type": "stream",
     "text": [
      "[[ 1.   0.5  0.1]\n",
      " [ 2.   1.   0.2]\n",
      " [ 3.   1.5  0.3]\n",
      " [ 4.   2.   0.4]\n",
      " [ 5.   2.5  0.5]\n",
      " [ 6.   3.   0.6]\n",
      " [ 7.   3.5  0.7]\n",
      " [ 8.   4.   0.8]\n",
      " [ 9.   4.5  0.9]\n",
      " [10.   5.   1. ]]\n"
     ]
    }
   ],
   "source": [
    "x = np.arange(5, 51, 5)\n",
    "y = np.array([5, 10, 50])\n",
    "print(np.divide.outer(x, y))\n"
   ]
  },
  {
   "cell_type": "markdown",
   "metadata": {},
   "source": [
    "## Агрегирование: минимум, максимум и все, что посередине"
   ]
  },
  {
   "cell_type": "markdown",
   "metadata": {},
   "source": [
    "np.sum вычисляет сумму элементов в массиве, работает с многомерными массивами. Она работает быстрее стандартной функции sum, так как выполняется в скомпилированном коде"
   ]
  },
  {
   "cell_type": "code",
   "execution_count": 81,
   "metadata": {},
   "outputs": [
    {
     "name": "stdout",
     "output_type": "stream",
     "text": [
      "496.4136027758617\n",
      "500.1488367819808\n"
     ]
    }
   ],
   "source": [
    "x = np.random.random(1000)\n",
    "y = np.random.random((10, 10, 10))\n",
    "print(np.sum(x))\n",
    "print(np.sum(y))"
   ]
  },
  {
   "cell_type": "markdown",
   "metadata": {},
   "source": [
    "np.min и np.max вычисляют соответственно минимум и максимум в массиве"
   ]
  },
  {
   "cell_type": "code",
   "execution_count": 82,
   "metadata": {},
   "outputs": [
    {
     "name": "stdout",
     "output_type": "stream",
     "text": [
      "0.0023460897918730073 0.999877042307556\n"
     ]
    }
   ],
   "source": [
    "print(np.min(y), np.max(y))"
   ]
  },
  {
   "cell_type": "markdown",
   "metadata": {},
   "source": [
    "sum, min и max можно использовать как методы массива"
   ]
  },
  {
   "cell_type": "code",
   "execution_count": 83,
   "metadata": {},
   "outputs": [
    {
     "name": "stdout",
     "output_type": "stream",
     "text": [
      "496.4136027758617 0.0006341064359334236 0.9995627407118012\n"
     ]
    }
   ],
   "source": [
    "print(x.sum(), x.min(), x.max())"
   ]
  },
  {
   "cell_type": "markdown",
   "metadata": {},
   "source": [
    "Если указать значение аргумента axis, то можно вычислять эти функции по строкам и столбцам в массиве"
   ]
  },
  {
   "cell_type": "code",
   "execution_count": 84,
   "metadata": {},
   "outputs": [
    {
     "name": "stdout",
     "output_type": "stream",
     "text": [
      "[[46 82 37]\n",
      " [89 54 24]\n",
      " [75 88  1]]\n"
     ]
    }
   ],
   "source": [
    "x = np.random.randint(1, 100, size=(3, 3))\n",
    "print(x)"
   ]
  },
  {
   "cell_type": "code",
   "execution_count": 85,
   "metadata": {},
   "outputs": [
    {
     "name": "stdout",
     "output_type": "stream",
     "text": [
      "[46 54  1]\n"
     ]
    }
   ],
   "source": [
    "print(x.min(axis=0))"
   ]
  },
  {
   "cell_type": "code",
   "execution_count": 86,
   "metadata": {},
   "outputs": [
    {
     "name": "stdout",
     "output_type": "stream",
     "text": [
      "[82 89 88]\n"
     ]
    }
   ],
   "source": [
    "print(x.max(axis=1))"
   ]
  },
  {
   "cell_type": "markdown",
   "metadata": {},
   "source": [
    "Приведём список некоторых других агрегирующих функций   \n",
    "![](agregate_func.png)"
   ]
  },
  {
   "cell_type": "markdown",
   "metadata": {},
   "source": [
    "## Операции над массивами. Транслирование"
   ]
  },
  {
   "cell_type": "markdown",
   "metadata": {},
   "source": [
    "Транслирование - набор правил по применению бинарных универсальных функций к массивам различного размера"
   ]
  },
  {
   "cell_type": "code",
   "execution_count": 87,
   "metadata": {},
   "outputs": [
    {
     "name": "stdout",
     "output_type": "stream",
     "text": [
      "[ 4 10 18]\n"
     ]
    }
   ],
   "source": [
    "# если массивы одного размера, то операция применяется поэлементно\n",
    "print(np.array([1, 2, 3]) * np.array([4, 5, 6]))"
   ]
  },
  {
   "cell_type": "code",
   "execution_count": 88,
   "metadata": {},
   "outputs": [
    {
     "name": "stdout",
     "output_type": "stream",
     "text": [
      "[ 5 10 15]\n"
     ]
    }
   ],
   "source": [
    "# простое число рассматривается как нульмерный массив\n",
    "print(np.array([1, 2, 3]) * 5)"
   ]
  },
  {
   "cell_type": "markdown",
   "metadata": {},
   "source": [
    "То есть транслирование как бы растягивает число 5 в массив [5, 5, 5]"
   ]
  },
  {
   "cell_type": "code",
   "execution_count": 89,
   "metadata": {},
   "outputs": [
    {
     "name": "stdout",
     "output_type": "stream",
     "text": [
      "[[2. 2. 3.]\n",
      " [1. 3. 3.]\n",
      " [1. 2. 4.]]\n"
     ]
    }
   ],
   "source": [
    "# пример умножения двумерного массива на одномерный\n",
    "print(np.eye(3) + np.array([1, 2, 3]))"
   ]
  },
  {
   "cell_type": "code",
   "execution_count": 90,
   "metadata": {},
   "outputs": [
    {
     "name": "stdout",
     "output_type": "stream",
     "text": [
      "[[2. 2. 3.]\n",
      " [1. 3. 3.]\n",
      " [1. 2. 4.]]\n"
     ]
    }
   ],
   "source": [
    "print(np.array([1, 2, 3] + np.eye(3)))"
   ]
  },
  {
   "cell_type": "code",
   "execution_count": 91,
   "metadata": {},
   "outputs": [
    {
     "name": "stdout",
     "output_type": "stream",
     "text": [
      "[[ 1  4  9]\n",
      " [ 4 10 18]]\n"
     ]
    }
   ],
   "source": [
    "print(np.array([1, 2, 3]) * np.array([[1, 2, 3], [4, 5, 6]]))"
   ]
  },
  {
   "cell_type": "markdown",
   "metadata": {},
   "source": [
    "Эти примеры используют транслирование одного массива, но может быть так, что будут транслированы оба массива"
   ]
  },
  {
   "cell_type": "code",
   "execution_count": 92,
   "metadata": {},
   "outputs": [
    {
     "name": "stdout",
     "output_type": "stream",
     "text": [
      "[ 0.   2.5  5.   7.5 10. ]\n",
      "[[0]\n",
      " [1]\n",
      " [2]\n",
      " [3]\n",
      " [4]]\n"
     ]
    }
   ],
   "source": [
    "a = np.arange(0, 11, 2.5)\n",
    "b = np.arange(5)[:, np.newaxis]\n",
    "print(a)\n",
    "print(b)"
   ]
  },
  {
   "cell_type": "code",
   "execution_count": 93,
   "metadata": {},
   "outputs": [
    {
     "name": "stdout",
     "output_type": "stream",
     "text": [
      "[[ 0.   2.5  5.   7.5 10. ]\n",
      " [ 1.   3.5  6.   8.5 11. ]\n",
      " [ 2.   4.5  7.   9.5 12. ]\n",
      " [ 3.   5.5  8.  10.5 13. ]\n",
      " [ 4.   6.5  9.  11.5 14. ]]\n"
     ]
    }
   ],
   "source": [
    "print(a + b)"
   ]
  },
  {
   "cell_type": "code",
   "execution_count": 94,
   "metadata": {},
   "outputs": [
    {
     "name": "stdout",
     "output_type": "stream",
     "text": [
      "[[ 0.   0.   0.   0.   0. ]\n",
      " [ 0.   2.5  5.   7.5 10. ]\n",
      " [ 0.   5.  10.  15.  20. ]\n",
      " [ 0.   7.5 15.  22.5 30. ]\n",
      " [ 0.  10.  20.  30.  40. ]]\n"
     ]
    }
   ],
   "source": [
    "print(a * b)"
   ]
  },
  {
   "cell_type": "markdown",
   "metadata": {},
   "source": [
    "Приведём правила транслирования:   \n",
    "Правило 1: если размерность двух массивов отличается, форма массива с меньшей размерностью дополняется единицами с ведущей (левой) стороны.   \n",
    "Правило 2: если форма двух массивов не совпадает в каком-то измерении, массив с формой, равной 1 в данном измерении, растягивается вплоть до соответствия форме другого массива.    \n",
    "Правило 3: если в каком-либо измерении размеры массивов различаются и ни один не равен 1, генерируется ошибка."
   ]
  },
  {
   "cell_type": "markdown",
   "metadata": {},
   "source": [
    "Рассмотрим правила подробнее"
   ]
  },
  {
   "cell_type": "code",
   "execution_count": 95,
   "metadata": {},
   "outputs": [],
   "source": [
    "M = np.ones((2, 2, 5))\n",
    "a = np.arange(5)"
   ]
  },
  {
   "cell_type": "code",
   "execution_count": 96,
   "metadata": {},
   "outputs": [
    {
     "name": "stdout",
     "output_type": "stream",
     "text": [
      "(2, 2, 5)\n",
      "(5,)\n"
     ]
    }
   ],
   "source": [
    "print(M.shape)\n",
    "print(a.shape)"
   ]
  },
  {
   "cell_type": "markdown",
   "metadata": {},
   "source": [
    "По правилу 1 массив меньшей размерности, то есть а, дополняется единицами слева, то есть становится размера (1, 1, 5)"
   ]
  },
  {
   "cell_type": "markdown",
   "metadata": {},
   "source": [
    "По правилу 2 массивы растягиваются чтобы соответствовать друг другу, то есть массив а становится размера (2, 2, 5)"
   ]
  },
  {
   "cell_type": "code",
   "execution_count": 97,
   "metadata": {},
   "outputs": [
    {
     "name": "stdout",
     "output_type": "stream",
     "text": [
      "[[[1. 2. 3. 4. 5.]\n",
      "  [1. 2. 3. 4. 5.]]\n",
      "\n",
      " [[1. 2. 3. 4. 5.]\n",
      "  [1. 2. 3. 4. 5.]]]\n"
     ]
    }
   ],
   "source": [
    "print(M + a)"
   ]
  },
  {
   "cell_type": "markdown",
   "metadata": {},
   "source": [
    "Если бы у массива М третье измерение было размера 4(или вообще отличалось от 5 и 1), то программа выдала бы ошибку"
   ]
  },
  {
   "cell_type": "code",
   "execution_count": 98,
   "metadata": {},
   "outputs": [
    {
     "ename": "ValueError",
     "evalue": "operands could not be broadcast together with shapes (5,) (2,2,4) ",
     "output_type": "error",
     "traceback": [
      "\u001b[1;31m---------------------------------------------------------------------------\u001b[0m",
      "\u001b[1;31mValueError\u001b[0m                                Traceback (most recent call last)",
      "Cell \u001b[1;32mIn[98], line 3\u001b[0m\n\u001b[0;32m      1\u001b[0m M \u001b[38;5;241m=\u001b[39m np\u001b[38;5;241m.\u001b[39mones((\u001b[38;5;241m2\u001b[39m, \u001b[38;5;241m2\u001b[39m, \u001b[38;5;241m4\u001b[39m))\n\u001b[0;32m      2\u001b[0m a \u001b[38;5;241m=\u001b[39m np\u001b[38;5;241m.\u001b[39marange(\u001b[38;5;241m5\u001b[39m)\n\u001b[1;32m----> 3\u001b[0m \u001b[38;5;28mprint\u001b[39m(\u001b[43ma\u001b[49m\u001b[43m \u001b[49m\u001b[38;5;241;43m+\u001b[39;49m\u001b[43m \u001b[49m\u001b[43mM\u001b[49m)\n",
      "\u001b[1;31mValueError\u001b[0m: operands could not be broadcast together with shapes (5,) (2,2,4) "
     ]
    }
   ],
   "source": [
    "M = np.ones((2, 2, 4))\n",
    "a = np.arange(5)\n",
    "print(a + M)"
   ]
  },
  {
   "cell_type": "markdown",
   "metadata": {},
   "source": [
    "Вернёмся к примеру с массивами разных размеров"
   ]
  },
  {
   "cell_type": "code",
   "execution_count": 99,
   "metadata": {},
   "outputs": [
    {
     "name": "stdout",
     "output_type": "stream",
     "text": [
      "[ 0.   2.5  5.   7.5 10. ]\n",
      "[[0]\n",
      " [1]\n",
      " [2]\n",
      " [3]\n",
      " [4]]\n"
     ]
    }
   ],
   "source": [
    "a = np.arange(0, 11, 2.5)\n",
    "b = np.arange(5)[:, np.newaxis]\n",
    "print(a)\n",
    "print(b)"
   ]
  },
  {
   "cell_type": "code",
   "execution_count": 100,
   "metadata": {},
   "outputs": [
    {
     "name": "stdout",
     "output_type": "stream",
     "text": [
      "(5,)\n",
      "(5, 1)\n"
     ]
    }
   ],
   "source": [
    "print(a.shape)\n",
    "print(b.shape)"
   ]
  },
  {
   "cell_type": "markdown",
   "metadata": {},
   "source": [
    "По правилу 1 массив а становится размеров (1, 5)"
   ]
  },
  {
   "cell_type": "markdown",
   "metadata": {},
   "source": [
    "По правилу 2 оба массива становятся размера (5, 5)"
   ]
  },
  {
   "cell_type": "markdown",
   "metadata": {},
   "source": [
    "Это мы и видели"
   ]
  },
  {
   "cell_type": "markdown",
   "metadata": {},
   "source": [
    "Надо упомянуть, что на самом деле эти растягивания не происходят и доп память под них не выделяется, но так нужно себе предсавлять для определения правильности работы кода"
   ]
  },
  {
   "cell_type": "markdown",
   "metadata": {},
   "source": [
    "### Центрирование массива с помощью транслирования"
   ]
  },
  {
   "cell_type": "markdown",
   "metadata": {},
   "source": [
    "Пусть у нас имеется 20 наблюдений, каждое из которых состоит из 5 значений"
   ]
  },
  {
   "cell_type": "code",
   "execution_count": 101,
   "metadata": {},
   "outputs": [],
   "source": [
    "X = np.random.random((20, 5))"
   ]
  },
  {
   "cell_type": "markdown",
   "metadata": {},
   "source": [
    "Сначала вычислим среднее каждого значения"
   ]
  },
  {
   "cell_type": "code",
   "execution_count": 102,
   "metadata": {},
   "outputs": [
    {
     "name": "stdout",
     "output_type": "stream",
     "text": [
      "[0.46871703 0.565487   0.52203807 0.61024649 0.46322498]\n"
     ]
    }
   ],
   "source": [
    "Xmean = X.mean(axis=0)\n",
    "print(Xmean)"
   ]
  },
  {
   "cell_type": "markdown",
   "metadata": {},
   "source": [
    "И отцентрируем массив, используя транслирование"
   ]
  },
  {
   "cell_type": "code",
   "execution_count": 103,
   "metadata": {},
   "outputs": [
    {
     "name": "stdout",
     "output_type": "stream",
     "text": [
      "[ 7.21644966e-17  6.66133815e-17  6.10622664e-17 -6.66133815e-17\n",
      "  6.66133815e-17]\n"
     ]
    }
   ],
   "source": [
    "X_centered = np.empty((20, 5))\n",
    "np.subtract(X, Xmean, out=X_centered)\n",
    "print(X_centered.mean(axis=0))"
   ]
  },
  {
   "cell_type": "markdown",
   "metadata": {},
   "source": [
    "## Сравнения, маски и булева логика"
   ]
  },
  {
   "cell_type": "markdown",
   "metadata": {},
   "source": [
    "Оказывается, что универсальные функции работают не только с арифметическими функциями, но и с операторами сравнения"
   ]
  },
  {
   "cell_type": "code",
   "execution_count": 104,
   "metadata": {},
   "outputs": [
    {
     "data": {
      "text/plain": [
       "array([[4, 8, 5],\n",
       "       [7, 6, 5],\n",
       "       [9, 4, 9]], dtype=int32)"
      ]
     },
     "execution_count": 104,
     "metadata": {},
     "output_type": "execute_result"
    }
   ],
   "source": [
    "grid = np.random.randint(1, 11, (3, 3))\n",
    "grid"
   ]
  },
  {
   "cell_type": "code",
   "execution_count": 105,
   "metadata": {},
   "outputs": [
    {
     "data": {
      "text/plain": [
       "array([[False, False, False],\n",
       "       [False, False, False],\n",
       "       [False, False, False]])"
      ]
     },
     "execution_count": 105,
     "metadata": {},
     "output_type": "execute_result"
    }
   ],
   "source": [
    "grid == 1"
   ]
  },
  {
   "cell_type": "code",
   "execution_count": 106,
   "metadata": {},
   "outputs": [
    {
     "data": {
      "text/plain": [
       "array([[ True, False, False],\n",
       "       [False, False, False],\n",
       "       [False,  True, False]])"
      ]
     },
     "execution_count": 106,
     "metadata": {},
     "output_type": "execute_result"
    }
   ],
   "source": [
    "grid < 5"
   ]
  },
  {
   "cell_type": "code",
   "execution_count": 107,
   "metadata": {},
   "outputs": [
    {
     "data": {
      "text/plain": [
       "array([[ True,  True,  True],\n",
       "       [ True,  True,  True],\n",
       "       [ True,  True,  True]])"
      ]
     },
     "execution_count": 107,
     "metadata": {},
     "output_type": "execute_result"
    }
   ],
   "source": [
    "grid >= 1"
   ]
  },
  {
   "cell_type": "markdown",
   "metadata": {},
   "source": [
    "Можно использовать поэлементное сравнение двух массивов"
   ]
  },
  {
   "cell_type": "code",
   "execution_count": 108,
   "metadata": {},
   "outputs": [
    {
     "data": {
      "text/plain": [
       "array([[ True,  True,  True],\n",
       "       [ True,  True,  True],\n",
       "       [ True,  True,  True]])"
      ]
     },
     "execution_count": 108,
     "metadata": {},
     "output_type": "execute_result"
    }
   ],
   "source": [
    "(3 * grid) >= ((grid + 10) / 2)"
   ]
  },
  {
   "cell_type": "markdown",
   "metadata": {},
   "source": [
    "Приведём список эквивалентных этим операторам универсальных функций    \n",
    "![](comp_oper.png)"
   ]
  },
  {
   "cell_type": "code",
   "execution_count": 109,
   "metadata": {},
   "outputs": [
    {
     "data": {
      "text/plain": [
       "array([[False, False, False],\n",
       "       [False, False, False],\n",
       "       [False, False, False]])"
      ]
     },
     "execution_count": 109,
     "metadata": {},
     "output_type": "execute_result"
    }
   ],
   "source": [
    "res = np.empty((3, 3), dtype=bool)\n",
    "np.equal(grid, 1, out=res)\n",
    "res"
   ]
  },
  {
   "cell_type": "markdown",
   "metadata": {},
   "source": [
    "np.count_nonzero() используется для подсчёта количества элементов True в булевом массиве    \n",
    "Для этих же целей можно использовать np.sum, его преимущество в том, что можно подсчитать количество истинных значений по строкам или столбцам"
   ]
  },
  {
   "cell_type": "code",
   "execution_count": 110,
   "metadata": {},
   "outputs": [
    {
     "data": {
      "text/plain": [
       "0"
      ]
     },
     "execution_count": 110,
     "metadata": {},
     "output_type": "execute_result"
    }
   ],
   "source": [
    "np.count_nonzero(2 * grid < 5)"
   ]
  },
  {
   "cell_type": "code",
   "execution_count": 111,
   "metadata": {},
   "outputs": [
    {
     "data": {
      "text/plain": [
       "np.int64(0)"
      ]
     },
     "execution_count": 111,
     "metadata": {},
     "output_type": "execute_result"
    }
   ],
   "source": [
    "np.sum(2 * grid < 5)"
   ]
  },
  {
   "cell_type": "code",
   "execution_count": 112,
   "metadata": {},
   "outputs": [
    {
     "name": "stdout",
     "output_type": "stream",
     "text": [
      "[[4 8 5]\n",
      " [7 6 5]\n",
      " [9 4 9]]\n"
     ]
    },
    {
     "data": {
      "text/plain": [
       "array([0, 0, 0])"
      ]
     },
     "execution_count": 112,
     "metadata": {},
     "output_type": "execute_result"
    }
   ],
   "source": [
    "print(grid)\n",
    "np.sum(2 * grid < 5, axis=0)"
   ]
  },
  {
   "cell_type": "markdown",
   "metadata": {},
   "source": [
    "np.any() используется для проверки существования хоть одного истинного значения в массиве\n",
    "np.all() используется для проверки того, что все элементы истины\n",
    "обе команды можно использовать по конкретным осям"
   ]
  },
  {
   "cell_type": "code",
   "execution_count": 113,
   "metadata": {},
   "outputs": [
    {
     "data": {
      "text/plain": [
       "array([[4, 8, 5],\n",
       "       [7, 6, 5],\n",
       "       [9, 4, 9]], dtype=int32)"
      ]
     },
     "execution_count": 113,
     "metadata": {},
     "output_type": "execute_result"
    }
   ],
   "source": [
    "grid"
   ]
  },
  {
   "cell_type": "code",
   "execution_count": 114,
   "metadata": {},
   "outputs": [
    {
     "data": {
      "text/plain": [
       "np.False_"
      ]
     },
     "execution_count": 114,
     "metadata": {},
     "output_type": "execute_result"
    }
   ],
   "source": [
    "np.any(grid < 1)"
   ]
  },
  {
   "cell_type": "code",
   "execution_count": 115,
   "metadata": {},
   "outputs": [
    {
     "data": {
      "text/plain": [
       "np.True_"
      ]
     },
     "execution_count": 115,
     "metadata": {},
     "output_type": "execute_result"
    }
   ],
   "source": [
    "np.any(grid > 5)"
   ]
  },
  {
   "cell_type": "code",
   "execution_count": 116,
   "metadata": {},
   "outputs": [
    {
     "data": {
      "text/plain": [
       "array([ True,  True,  True])"
      ]
     },
     "execution_count": 116,
     "metadata": {},
     "output_type": "execute_result"
    }
   ],
   "source": [
    "np.any(grid > 5, axis = 1)"
   ]
  },
  {
   "cell_type": "code",
   "execution_count": 117,
   "metadata": {},
   "outputs": [
    {
     "data": {
      "text/plain": [
       "np.True_"
      ]
     },
     "execution_count": 117,
     "metadata": {},
     "output_type": "execute_result"
    }
   ],
   "source": [
    "np.all(grid >= 1)"
   ]
  },
  {
   "cell_type": "markdown",
   "metadata": {},
   "source": [
    "Так же библиотека поддерживает побитовые логические операторы (привычные and, or и not не будут работать, потому что они рассматривают массив как целую сущность. Они вычисляют единое булево значение, в то время как(в том числе в обычном Python) операторы & | работают отдельно с составляющими структуры, для целых чисел - это биты в двоичной записи, а для массивов NumPy - элементы массива)"
   ]
  },
  {
   "cell_type": "code",
   "execution_count": 118,
   "metadata": {},
   "outputs": [
    {
     "data": {
      "text/plain": [
       "array([[ True, False,  True],\n",
       "       [False,  True,  True],\n",
       "       [False,  True, False]])"
      ]
     },
     "execution_count": 118,
     "metadata": {},
     "output_type": "execute_result"
    }
   ],
   "source": [
    "(grid > 1) & (grid < 7)"
   ]
  },
  {
   "cell_type": "code",
   "execution_count": 119,
   "metadata": {},
   "outputs": [
    {
     "data": {
      "text/plain": [
       "5"
      ]
     },
     "execution_count": 119,
     "metadata": {},
     "output_type": "execute_result"
    }
   ],
   "source": [
    "np.count_nonzero((grid > 1) & (grid < 7))"
   ]
  },
  {
   "cell_type": "markdown",
   "metadata": {},
   "source": [
    "Приведём таблицу эквивалентных универсальных функция    \n",
    "![](bit_oper.png)"
   ]
  },
  {
   "cell_type": "markdown",
   "metadata": {},
   "source": [
    "В библиотеке есть возможность использовать булевы массивы как маски. Например, можно составить массив из тех значений исходного массива, которые удовлетворяют некоторому условию. Такая операция называется наложением маски или маскированием"
   ]
  },
  {
   "cell_type": "code",
   "execution_count": 120,
   "metadata": {},
   "outputs": [
    {
     "name": "stdout",
     "output_type": "stream",
     "text": [
      "[4 5 6 5 4]\n"
     ]
    }
   ],
   "source": [
    "print(grid[(grid > 1) & (grid < 7)])"
   ]
  },
  {
   "cell_type": "markdown",
   "metadata": {},
   "source": [
    "## «Прихотливая» индексация"
   ]
  },
  {
   "cell_type": "markdown",
   "metadata": {},
   "source": [
    "Суть \"прихотливой\" индексации в том, что мы можем передать в качестве индекса целый массив"
   ]
  },
  {
   "cell_type": "code",
   "execution_count": 121,
   "metadata": {},
   "outputs": [
    {
     "name": "stdout",
     "output_type": "stream",
     "text": [
      "[0 3 5]\n"
     ]
    }
   ],
   "source": [
    "x = np.arange(100, 111)\n",
    "ind = np.random.randint(0, 10, size=3)\n",
    "print(ind)"
   ]
  },
  {
   "cell_type": "code",
   "execution_count": 122,
   "metadata": {},
   "outputs": [
    {
     "name": "stdout",
     "output_type": "stream",
     "text": [
      "[100 103 105]\n"
     ]
    }
   ],
   "source": [
    "print(x[ind])"
   ]
  },
  {
   "cell_type": "markdown",
   "metadata": {},
   "source": [
    "Причём массив индексов может быть многомерным, результат будет иметь ту же форму, что и массив индексов"
   ]
  },
  {
   "cell_type": "code",
   "execution_count": 123,
   "metadata": {},
   "outputs": [
    {
     "name": "stdout",
     "output_type": "stream",
     "text": [
      "[[4 4 8]\n",
      " [3 2 7]\n",
      " [6 6 7]]\n"
     ]
    }
   ],
   "source": [
    "ind = np.random.randint(0, 10, size=(3, 3))\n",
    "print(ind)"
   ]
  },
  {
   "cell_type": "code",
   "execution_count": 124,
   "metadata": {},
   "outputs": [
    {
     "name": "stdout",
     "output_type": "stream",
     "text": [
      "[[104 104 108]\n",
      " [103 102 107]\n",
      " [106 106 107]]\n"
     ]
    }
   ],
   "source": [
    "print(x[ind])"
   ]
  },
  {
   "cell_type": "markdown",
   "metadata": {},
   "source": [
    "Многомерным может быть и индексируемый массив"
   ]
  },
  {
   "cell_type": "code",
   "execution_count": 125,
   "metadata": {},
   "outputs": [
    {
     "name": "stdout",
     "output_type": "stream",
     "text": [
      "[[0 1 2]\n",
      " [3 4 5]\n",
      " [6 7 8]]\n"
     ]
    }
   ],
   "source": [
    "x = np.arange(9).reshape((3, 3))\n",
    "print(x)"
   ]
  },
  {
   "cell_type": "code",
   "execution_count": 126,
   "metadata": {},
   "outputs": [
    {
     "name": "stdout",
     "output_type": "stream",
     "text": [
      "[0 2 1]\n",
      "[1 2 2]\n"
     ]
    }
   ],
   "source": [
    "row = np.random.randint(0, 3, size=3)\n",
    "col = np.random.randint(0, 3, size=3)\n",
    "print(row)\n",
    "print(col)"
   ]
  },
  {
   "cell_type": "code",
   "execution_count": 127,
   "metadata": {},
   "outputs": [
    {
     "name": "stdout",
     "output_type": "stream",
     "text": [
      "[1 8 5]\n"
     ]
    }
   ],
   "source": [
    "print(x[row, col])"
   ]
  },
  {
   "cell_type": "markdown",
   "metadata": {},
   "source": [
    "В случае, когда массивы индексов имеют разные размеры, они будут приведены к одной форму в соответствие с правилами транслирования"
   ]
  },
  {
   "cell_type": "code",
   "execution_count": 128,
   "metadata": {},
   "outputs": [
    {
     "name": "stdout",
     "output_type": "stream",
     "text": [
      "[[1 2 2]\n",
      " [7 8 8]\n",
      " [4 5 5]]\n"
     ]
    }
   ],
   "source": [
    "print(x[row[:, np.newaxis], col])"
   ]
  },
  {
   "cell_type": "markdown",
   "metadata": {},
   "source": [
    "Результат выше соответствует массиву индексов(вместо умножения мысленно представляем декартово произведение)"
   ]
  },
  {
   "cell_type": "code",
   "execution_count": 129,
   "metadata": {},
   "outputs": [
    {
     "data": {
      "text/plain": [
       "array([[0, 0, 0],\n",
       "       [2, 4, 4],\n",
       "       [1, 2, 2]], dtype=int32)"
      ]
     },
     "execution_count": 129,
     "metadata": {},
     "output_type": "execute_result"
    }
   ],
   "source": [
    "row[:, np.newaxis] * col"
   ]
  },
  {
   "cell_type": "markdown",
   "metadata": {},
   "source": [
    "\"Прихотливую\" индексацию можно использовать совместно с другими методами индексации"
   ]
  },
  {
   "cell_type": "markdown",
   "metadata": {},
   "source": [
    "Можно совместно использовать простые индексы и \"прихотливую\" индексацию"
   ]
  },
  {
   "cell_type": "code",
   "execution_count": 130,
   "metadata": {},
   "outputs": [
    {
     "name": "stdout",
     "output_type": "stream",
     "text": [
      "[[ 0  1  2  3]\n",
      " [ 4  5  6  7]\n",
      " [ 8  9 10 11]]\n"
     ]
    }
   ],
   "source": [
    "grid = np.arange(0, 12).reshape((3, 4))\n",
    "print(grid)"
   ]
  },
  {
   "cell_type": "code",
   "execution_count": 131,
   "metadata": {},
   "outputs": [
    {
     "name": "stdout",
     "output_type": "stream",
     "text": [
      "[ 7 11]\n"
     ]
    }
   ],
   "source": [
    "row = np.array([1, 2])\n",
    "print(grid[row, 3])"
   ]
  },
  {
   "cell_type": "code",
   "execution_count": 132,
   "metadata": {},
   "outputs": [
    {
     "name": "stdout",
     "output_type": "stream",
     "text": [
      "[[ 7]\n",
      " [11]]\n"
     ]
    }
   ],
   "source": [
    "print(grid[row[:, np.newaxis], 3])"
   ]
  },
  {
   "cell_type": "markdown",
   "metadata": {},
   "source": [
    "Можно использовать \"прихотливую\" индексацию вместе со срезами"
   ]
  },
  {
   "cell_type": "code",
   "execution_count": 133,
   "metadata": {},
   "outputs": [
    {
     "name": "stdout",
     "output_type": "stream",
     "text": [
      "[[ 4  6]\n",
      " [ 8 10]]\n"
     ]
    }
   ],
   "source": [
    "print(grid[row, ::2])"
   ]
  },
  {
   "cell_type": "markdown",
   "metadata": {},
   "source": [
    "Можно использовать \"прихотливую\" индексацию и маскирование"
   ]
  },
  {
   "cell_type": "code",
   "execution_count": 134,
   "metadata": {},
   "outputs": [
    {
     "name": "stdout",
     "output_type": "stream",
     "text": [
      "[[ 4  5  7]\n",
      " [ 8  9 11]]\n"
     ]
    }
   ],
   "source": [
    "mask = np.array([1, 1, 0, 1], dtype=bool)\n",
    "print(grid[row[:, np.newaxis], mask])"
   ]
  },
  {
   "cell_type": "markdown",
   "metadata": {},
   "source": [
    "\"Прихотливая\" индексаця позволяет модифицировать часть массива"
   ]
  },
  {
   "cell_type": "code",
   "execution_count": 135,
   "metadata": {},
   "outputs": [],
   "source": [
    "x = np.zeros(10)\n",
    "ind = np.array([2, 5, 7])"
   ]
  },
  {
   "cell_type": "code",
   "execution_count": 136,
   "metadata": {},
   "outputs": [
    {
     "data": {
      "text/plain": [
       "array([0., 0., 7., 0., 0., 7., 0., 7., 0., 0.])"
      ]
     },
     "execution_count": 136,
     "metadata": {},
     "output_type": "execute_result"
    }
   ],
   "source": [
    "x[ind] = 7\n",
    "x"
   ]
  },
  {
   "cell_type": "code",
   "execution_count": 137,
   "metadata": {},
   "outputs": [
    {
     "data": {
      "text/plain": [
       "array([0., 0., 8., 0., 0., 8., 0., 8., 0., 0.])"
      ]
     },
     "execution_count": 137,
     "metadata": {},
     "output_type": "execute_result"
    }
   ],
   "source": [
    "x[ind] += 1\n",
    "x"
   ]
  },
  {
   "cell_type": "code",
   "execution_count": 138,
   "metadata": {},
   "outputs": [
    {
     "data": {
      "text/plain": [
       "array([0., 0., 1., 0., 0., 2., 0., 3., 0., 0.])"
      ]
     },
     "execution_count": 138,
     "metadata": {},
     "output_type": "execute_result"
    }
   ],
   "source": [
    "x[ind] = [1, 2, 3]\n",
    "x"
   ]
  },
  {
   "cell_type": "markdown",
   "metadata": {},
   "source": [
    "В случае повторяющихся индексов всё плохо"
   ]
  },
  {
   "cell_type": "code",
   "execution_count": 139,
   "metadata": {},
   "outputs": [
    {
     "data": {
      "text/plain": [
       "array([0., 3., 0., 0., 0., 0., 0., 0., 0., 0.])"
      ]
     },
     "execution_count": 139,
     "metadata": {},
     "output_type": "execute_result"
    }
   ],
   "source": [
    "x = np.zeros(10)\n",
    "ind = np.array([1, 1, 1])\n",
    "x[ind] = [1, 2, 3]\n",
    "x"
   ]
  },
  {
   "cell_type": "markdown",
   "metadata": {},
   "source": [
    "Сначала x[1] стало 1, потом 2, потом 3. Тут всё логично, но"
   ]
  },
  {
   "cell_type": "markdown",
   "metadata": {},
   "source": []
  },
  {
   "cell_type": "code",
   "execution_count": 140,
   "metadata": {},
   "outputs": [
    {
     "data": {
      "text/plain": [
       "array([0., 4., 0., 0., 0., 0., 0., 0., 0., 0.])"
      ]
     },
     "execution_count": 140,
     "metadata": {},
     "output_type": "execute_result"
    }
   ],
   "source": [
    "x[ind] += 1\n",
    "x"
   ]
  },
  {
   "cell_type": "markdown",
   "metadata": {},
   "source": [
    "Можно было ожидать, что x[1] будет 6, но на самом деле один раз вычислилось значение x[1] + 1, и потом оно три раза присвоилось x[1]"
   ]
  },
  {
   "cell_type": "markdown",
   "metadata": {},
   "source": [
    "Метод at() позволяет ожидать от программы именно той логики, которая описана выше"
   ]
  },
  {
   "cell_type": "code",
   "execution_count": 141,
   "metadata": {},
   "outputs": [
    {
     "data": {
      "text/plain": [
       "array([0., 6., 0., 0., 0., 0., 0., 0., 0., 0.])"
      ]
     },
     "execution_count": 141,
     "metadata": {},
     "output_type": "execute_result"
    }
   ],
   "source": [
    "x = np.zeros(10)\n",
    "ind = np.array([1, 1, 1])\n",
    "np.add.at(x, ind, [1, 2, 3])\n",
    "x"
   ]
  },
  {
   "cell_type": "markdown",
   "metadata": {},
   "source": [
    "Аналогично методу reduce, но по заданным индексами сегментам, действует метод reduceat(если два соседних индекса одинаковые, то результат - просто элемент стоящий под этим идексом)"
   ]
  },
  {
   "cell_type": "code",
   "execution_count": 142,
   "metadata": {},
   "outputs": [
    {
     "data": {
      "text/plain": [
       "array([1, 3, 7])"
      ]
     },
     "execution_count": 142,
     "metadata": {},
     "output_type": "execute_result"
    }
   ],
   "source": [
    "x = np.arange(5)\n",
    "ind = np.array([1, 1, 3])\n",
    "np.add.reduceat(x, ind)"
   ]
  },
  {
   "cell_type": "markdown",
   "metadata": {},
   "source": [
    "## Сортировка массивов"
   ]
  },
  {
   "cell_type": "markdown",
   "metadata": {},
   "source": [
    "np.sort - просто quicksort массива"
   ]
  },
  {
   "cell_type": "code",
   "execution_count": 143,
   "metadata": {},
   "outputs": [
    {
     "name": "stdout",
     "output_type": "stream",
     "text": [
      "[98 86 23 61 88 85 94 16  8 83]\n",
      "[ 8 16 23 61 83 85 86 88 94 98]\n"
     ]
    }
   ],
   "source": [
    "x = np.random.randint(0, 100, 10)\n",
    "print(x)\n",
    "print(np.sort(x))"
   ]
  },
  {
   "cell_type": "markdown",
   "metadata": {},
   "source": [
    "Функция np.sort возвращает новый массив, полученный на основе поданного, но не меняет исходный. Чтобы отсортировать исходный массив нужно применять метод sort "
   ]
  },
  {
   "cell_type": "code",
   "execution_count": 144,
   "metadata": {},
   "outputs": [
    {
     "name": "stdout",
     "output_type": "stream",
     "text": [
      "[98 86 23 61 88 85 94 16  8 83]\n",
      "[ 8 16 23 61 83 85 86 88 94 98]\n"
     ]
    }
   ],
   "source": [
    "print(x)\n",
    "x.sort()\n",
    "print(x)"
   ]
  },
  {
   "cell_type": "markdown",
   "metadata": {},
   "source": [
    "Функция np.argsort возвращает индексы отсортированного массива, не меняя сам массив"
   ]
  },
  {
   "cell_type": "code",
   "execution_count": 145,
   "metadata": {},
   "outputs": [
    {
     "name": "stdout",
     "output_type": "stream",
     "text": [
      "[0 2 7 5 4 3 8 9 1 6]\n",
      "[ 0  6  9 14 22 42 50 58 89 99]\n"
     ]
    }
   ],
   "source": [
    "x = np.random.randint(0, 100, 10)\n",
    "ind = np.argsort(x)\n",
    "print(ind)\n",
    "print(x[ind])"
   ]
  },
  {
   "cell_type": "markdown",
   "metadata": {},
   "source": [
    "Есть возможность сортировать массивы по измерениям, например по строкам и столбцам"
   ]
  },
  {
   "cell_type": "code",
   "execution_count": 146,
   "metadata": {},
   "outputs": [
    {
     "data": {
      "text/plain": [
       "array([[ 0, 24,  1,  1,  5,  4,  3, 11, 16, 18],\n",
       "       [ 1, 28,  2, 26, 12, 10, 24, 17, 19, 19],\n",
       "       [ 4, 50,  9, 38, 37, 16, 26, 21, 27, 37],\n",
       "       [ 5, 57, 16, 51, 41, 31, 27, 25, 34, 45],\n",
       "       [ 6, 59, 18, 64, 45, 45, 36, 37, 34, 53],\n",
       "       [21, 67, 39, 69, 58, 47, 48, 77, 37, 60],\n",
       "       [60, 68, 43, 77, 62, 56, 51, 82, 42, 65],\n",
       "       [71, 78, 44, 88, 62, 71, 55, 83, 61, 66],\n",
       "       [80, 85, 92, 95, 71, 72, 68, 88, 72, 69],\n",
       "       [82, 89, 94, 98, 79, 93, 94, 98, 91, 81]], dtype=int32)"
      ]
     },
     "execution_count": 146,
     "metadata": {},
     "output_type": "execute_result"
    }
   ],
   "source": [
    "grid = np.random.randint(0, 100, (10, 10))\n",
    "np.sort(grid, axis = 0)"
   ]
  },
  {
   "cell_type": "code",
   "execution_count": 147,
   "metadata": {},
   "outputs": [
    {
     "data": {
      "text/plain": [
       "array([[ 0,  9, 27, 28, 37, 38, 45, 72, 79, 88],\n",
       "       [ 2,  4, 19, 26, 37, 37, 53, 60, 78, 95],\n",
       "       [ 1,  5, 11, 31, 34, 68, 69, 82, 89, 94],\n",
       "       [ 5, 12, 16, 24, 36, 37, 44, 45, 51, 77],\n",
       "       [ 4, 18, 34, 51, 57, 58, 65, 71, 83, 88],\n",
       "       [21, 24, 39, 47, 62, 71, 72, 77, 81, 85],\n",
       "       [ 1,  1, 66, 67, 71, 82, 91, 93, 94, 98],\n",
       "       [ 6, 16, 17, 26, 27, 43, 48, 50, 60, 62],\n",
       "       [ 3, 19, 21, 45, 56, 61, 64, 68, 92, 98],\n",
       "       [10, 16, 18, 25, 41, 42, 55, 59, 69, 80]], dtype=int32)"
      ]
     },
     "execution_count": 147,
     "metadata": {},
     "output_type": "execute_result"
    }
   ],
   "source": [
    "np.sort(grid, axis = 1)"
   ]
  },
  {
   "cell_type": "code",
   "execution_count": 148,
   "metadata": {},
   "outputs": [
    {
     "data": {
      "text/plain": [
       "array([[ 0,  1,  1,  3,  4,  5, 11, 16, 18, 24],\n",
       "       [ 1,  2, 10, 12, 17, 19, 19, 24, 26, 28],\n",
       "       [ 4,  9, 16, 21, 26, 27, 37, 37, 38, 50],\n",
       "       [ 5, 16, 25, 27, 31, 34, 41, 45, 51, 57],\n",
       "       [ 6, 18, 34, 36, 37, 45, 45, 53, 59, 64],\n",
       "       [21, 37, 39, 47, 48, 58, 60, 67, 69, 77],\n",
       "       [42, 43, 51, 56, 60, 62, 65, 68, 77, 82],\n",
       "       [44, 55, 61, 62, 66, 71, 71, 78, 83, 88],\n",
       "       [68, 69, 71, 72, 72, 80, 85, 88, 92, 95],\n",
       "       [79, 81, 82, 89, 91, 93, 94, 94, 98, 98]], dtype=int32)"
      ]
     },
     "execution_count": 148,
     "metadata": {},
     "output_type": "execute_result"
    }
   ],
   "source": [
    "np.sort(np.sort(grid, axis=0), axis=1)"
   ]
  },
  {
   "cell_type": "markdown",
   "metadata": {},
   "source": [
    "np.partition принимает на вход массив и число k, возвращает массив, на k-ом месте стоит k-ое по величине число массива, слева от него стоят все числа меньше него в произвольном порядке, справа - все числа, которые больше или равны его. Есть так же функция np.argpartition. Можно сортировать и по измерениям многомерного массива"
   ]
  },
  {
   "cell_type": "code",
   "execution_count": 149,
   "metadata": {},
   "outputs": [
    {
     "name": "stdout",
     "output_type": "stream",
     "text": [
      "[ 38  21  10 ... 879 662 635]\n"
     ]
    }
   ],
   "source": [
    "x = np.random.randint(0, 1000, 10_000)\n",
    "print(np.partition(x, 500))"
   ]
  },
  {
   "cell_type": "code",
   "execution_count": 150,
   "metadata": {},
   "outputs": [
    {
     "name": "stdout",
     "output_type": "stream",
     "text": [
      "[[22  9 30  1 36 32 47 17 23 41]\n",
      " [40 44 43 22 28 37 34 15 39 32]\n",
      " [40 10 30 43 23 31  1 22 38 12]\n",
      " [ 0 28  9 46 27 35 42  6 11 16]\n",
      " [14 42 21 19 14  7 19 16 14 25]\n",
      " [ 6  4 28  8 16  6  6 29 41 11]\n",
      " [ 8 42 45 21 18 22 24 42  3 17]\n",
      " [ 5 21 22  6 22 32 18  5 44 38]\n",
      " [30 37 39  6 37 49 27 43  3 28]\n",
      " [27 49 38 34  9 23  2 10 12 48]]\n",
      "[[ 0  4  9  1  9  6  1  5  3 11]\n",
      " [ 5  9 21  6 14  7  2  6  3 12]\n",
      " [ 6 10 22  6 16 22  6 10 11 16]\n",
      " [ 8 21 28  8 18 23 18 15 12 17]\n",
      " [14 28 30 19 22 31 19 16 14 25]\n",
      " [22 37 30 21 23 32 24 17 23 28]\n",
      " [27 42 38 22 27 32 27 22 38 32]\n",
      " [30 42 39 34 28 35 34 29 39 38]\n",
      " [40 44 43 43 36 37 42 42 41 41]\n",
      " [40 49 45 46 37 49 47 43 44 48]]\n"
     ]
    }
   ],
   "source": [
    "X = np.random.randint(0, 50, (10, 10))\n",
    "print(X)\n",
    "print(np.partition(X, 2, axis=0))"
   ]
  },
  {
   "cell_type": "markdown",
   "metadata": {},
   "source": [
    "## Структурированные данные: структурированные массивы библиотеки NumPy"
   ]
  },
  {
   "cell_type": "markdown",
   "metadata": {},
   "source": [
    "Библиотека предоставляет возможность хранить структурированные массивы, то есть массивы с данными неоднородного типа"
   ]
  },
  {
   "cell_type": "code",
   "execution_count": 151,
   "metadata": {},
   "outputs": [
    {
     "data": {
      "text/plain": [
       "dtype([('name', '<U10'), ('age', '<i4'), ('weight', '<f8')])"
      ]
     },
     "execution_count": 151,
     "metadata": {},
     "output_type": "execute_result"
    }
   ],
   "source": [
    "data = np.zeros(4, dtype={'names':('name', 'age', 'weight'), 'formats':('U10', 'i4', 'f8')})\n",
    "data.dtype"
   ]
  },
  {
   "cell_type": "code",
   "execution_count": 152,
   "metadata": {},
   "outputs": [
    {
     "data": {
      "text/plain": [
       "array([('Alice', 25, 55. ), ('Bob', 45, 85.5), ('Cathy', 37, 68. ),\n",
       "       ('Doug', 19, 61.5)],\n",
       "      dtype=[('name', '<U10'), ('age', '<i4'), ('weight', '<f8')])"
      ]
     },
     "execution_count": 152,
     "metadata": {},
     "output_type": "execute_result"
    }
   ],
   "source": [
    "name = ['Alice', 'Bob', 'Cathy', 'Doug']\n",
    "age = [25, 45, 37, 19]\n",
    "weight = [55.0, 85.5, 68.0, 61.5]\n",
    "\n",
    "data['name'] = name\n",
    "data['age'] = age\n",
    "data['weight'] = weight\n",
    "data"
   ]
  },
  {
   "cell_type": "markdown",
   "metadata": {},
   "source": [
    "К структурированным массивам можно обращаться и по имени, и по индексу"
   ]
  },
  {
   "cell_type": "code",
   "execution_count": 153,
   "metadata": {},
   "outputs": [
    {
     "data": {
      "text/plain": [
       "array(['Alice', 'Bob', 'Cathy', 'Doug'], dtype='<U10')"
      ]
     },
     "execution_count": 153,
     "metadata": {},
     "output_type": "execute_result"
    }
   ],
   "source": [
    "data['name']"
   ]
  },
  {
   "cell_type": "code",
   "execution_count": 154,
   "metadata": {},
   "outputs": [
    {
     "data": {
      "text/plain": [
       "np.void(('Bob', 45, 85.5), dtype=[('name', '<U10'), ('age', '<i4'), ('weight', '<f8')])"
      ]
     },
     "execution_count": 154,
     "metadata": {},
     "output_type": "execute_result"
    }
   ],
   "source": [
    "data[1]"
   ]
  },
  {
   "cell_type": "code",
   "execution_count": 155,
   "metadata": {},
   "outputs": [
    {
     "data": {
      "text/plain": [
       "np.int32(45)"
      ]
     },
     "execution_count": 155,
     "metadata": {},
     "output_type": "execute_result"
    }
   ],
   "source": [
    "data[1][\"age\"]"
   ]
  },
  {
   "cell_type": "markdown",
   "metadata": {},
   "source": [
    "Можно использовать булевы маски"
   ]
  },
  {
   "cell_type": "code",
   "execution_count": 156,
   "metadata": {},
   "outputs": [
    {
     "data": {
      "text/plain": [
       "array(['Alice', 'Cathy', 'Doug'], dtype='<U10')"
      ]
     },
     "execution_count": 156,
     "metadata": {},
     "output_type": "execute_result"
    }
   ],
   "source": [
    "data[data['weight'] < 70][\"name\"]"
   ]
  },
  {
   "cell_type": "markdown",
   "metadata": {},
   "source": [
    "В поле формат можно было применять типы данных языка Python или dtype библиотеки NumPy"
   ]
  },
  {
   "cell_type": "code",
   "execution_count": 157,
   "metadata": {},
   "outputs": [
    {
     "data": {
      "text/plain": [
       "dtype([('name', '<U10'), ('age', '<i8'), ('weight', '<f4')])"
      ]
     },
     "execution_count": 157,
     "metadata": {},
     "output_type": "execute_result"
    }
   ],
   "source": [
    "np.dtype({'names':('name', 'age', 'weight'),\n",
    "    'formats':((np.str_, 10), int, np.float32)})"
   ]
  },
  {
   "cell_type": "markdown",
   "metadata": {},
   "source": [
    "Составные типы можно задавать не только в виде словаря, а, к примеру, списком кортежей"
   ]
  },
  {
   "cell_type": "code",
   "execution_count": 158,
   "metadata": {},
   "outputs": [
    {
     "data": {
      "text/plain": [
       "dtype([('name', 'S10'), ('age', '<i4'), ('weight', '<f8')])"
      ]
     },
     "execution_count": 158,
     "metadata": {},
     "output_type": "execute_result"
    }
   ],
   "source": [
    "np.dtype([('name', 'S10'), ('age', 'i4'), ('weight', 'f8')])"
   ]
  },
  {
   "cell_type": "markdown",
   "metadata": {},
   "source": [
    "Если название типов данных не нужно, можно задать только сами типы"
   ]
  },
  {
   "cell_type": "code",
   "execution_count": 159,
   "metadata": {},
   "outputs": [
    {
     "data": {
      "text/plain": [
       "dtype([('f0', 'S10'), ('f1', '<i4'), ('f2', '<f8')])"
      ]
     },
     "execution_count": 159,
     "metadata": {},
     "output_type": "execute_result"
    }
   ],
   "source": [
    "np.dtype('S10,i4,f8')"
   ]
  },
  {
   "cell_type": "markdown",
   "metadata": {},
   "source": [
    "Приведём таблицу со всеми сокращениями для названий типов данных    \n",
    "![](data_types.png)"
   ]
  },
  {
   "cell_type": "markdown",
   "metadata": {},
   "source": [
    "Библиотека предоставляет возможность создавать более продвинутые типы данных. Можно создать тип, в котором каждый элемент содержит массив(в том числе многомерный)"
   ]
  },
  {
   "cell_type": "code",
   "execution_count": 160,
   "metadata": {},
   "outputs": [
    {
     "name": "stdout",
     "output_type": "stream",
     "text": [
      "(0, [[[0.0, 0.0], [0.0, 0.0]], [[0.0, 0.0], [0.0, 0.0]], [[0.0, 0.0], [0.0, 0.0]], [[0.0, 0.0], [0.0, 0.0]]])\n",
      "[[[0. 0.]\n",
      "  [0. 0.]]\n",
      "\n",
      " [[0. 0.]\n",
      "  [0. 0.]]\n",
      "\n",
      " [[0. 0.]\n",
      "  [0. 0.]]\n",
      "\n",
      " [[0. 0.]\n",
      "  [0. 0.]]]\n"
     ]
    }
   ],
   "source": [
    "tp = np.dtype([('id', 'i8'), ('mat', 'f8', (4, 2, 2))])\n",
    "X = np.zeros(1, dtype=tp)\n",
    "print(X[0])\n",
    "print(X['mat'][0])"
   ]
  },
  {
   "cell_type": "markdown",
   "metadata": {},
   "source": [
    "Библиотека NumPy предоставляет класс np.recarray, практически идентичный только что описанным структурированным массивам, но с одной дополнительной возможностью: доступ к полям можно осуществлять как к атрибутам, а не только как к ключам словаря."
   ]
  },
  {
   "cell_type": "code",
   "execution_count": 161,
   "metadata": {},
   "outputs": [
    {
     "data": {
      "text/plain": [
       "array([25, 45, 37, 19], dtype=int32)"
      ]
     },
     "execution_count": 161,
     "metadata": {},
     "output_type": "execute_result"
    }
   ],
   "source": [
    "data_rec = data.view(np.recarray)\n",
    "data_rec.age"
   ]
  },
  {
   "cell_type": "code",
   "execution_count": 162,
   "metadata": {},
   "outputs": [
    {
     "data": {
      "text/plain": [
       "array([25, 45, 37, 19], dtype=int32)"
      ]
     },
     "execution_count": 162,
     "metadata": {},
     "output_type": "execute_result"
    }
   ],
   "source": [
    "data['age']"
   ]
  },
  {
   "cell_type": "markdown",
   "metadata": {},
   "source": [
    "Но подобное представление структурированных записей значительно замедляет работу с ними на большом объёме данных, взамен предлагая чуть более удобный синтаксис"
   ]
  }
 ],
 "metadata": {
  "kernelspec": {
   "display_name": "Python 3",
   "language": "python",
   "name": "python3"
  },
  "language_info": {
   "codemirror_mode": {
    "name": "ipython",
    "version": 3
   },
   "file_extension": ".py",
   "mimetype": "text/x-python",
   "name": "python",
   "nbconvert_exporter": "python",
   "pygments_lexer": "ipython3",
   "version": "3.12.0"
  }
 },
 "nbformat": 4,
 "nbformat_minor": 2
}
